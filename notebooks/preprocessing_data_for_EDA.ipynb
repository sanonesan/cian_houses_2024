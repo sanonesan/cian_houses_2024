{
 "cells": [
  {
   "cell_type": "markdown",
   "metadata": {},
   "source": [
    "# Notebook with preprocessing collected data"
   ]
  },
  {
   "cell_type": "code",
   "execution_count": 1,
   "metadata": {},
   "outputs": [],
   "source": [
    "import numpy as np\n",
    "import re\n",
    "import pandas as pd"
   ]
  },
  {
   "cell_type": "markdown",
   "metadata": {},
   "source": [
    "Данные были собраны с фильтрацией по количеству комнат, так что, объединяя собранные csv файлы, будем добавлять дополнительный столбец с количеством комнат.\n",
    "Всего было собрано 6 датасетов (от 1-комн. квартир до 6-комн. квартир)"
   ]
  },
  {
   "cell_type": "markdown",
   "metadata": {},
   "source": [
    "The data was collected with filtering by the number of rooms, so during concatenating the collected csv files, we will add an additional column with the number of rooms.\n",
    "In total, 6 datasets were collected (from 1 room apartments up to 6 rooms apartments)."
   ]
  },
  {
   "cell_type": "code",
   "execution_count": 2,
   "metadata": {},
   "outputs": [],
   "source": [
    "DATA_PATH = \"./data/\""
   ]
  },
  {
   "cell_type": "code",
   "execution_count": 3,
   "metadata": {},
   "outputs": [
    {
     "data": {
      "text/html": [
       "<div>\n",
       "<style scoped>\n",
       "    .dataframe tbody tr th:only-of-type {\n",
       "        vertical-align: middle;\n",
       "    }\n",
       "\n",
       "    .dataframe tbody tr th {\n",
       "        vertical-align: top;\n",
       "    }\n",
       "\n",
       "    .dataframe thead th {\n",
       "        text-align: right;\n",
       "    }\n",
       "</style>\n",
       "<table border=\"1\" class=\"dataframe\">\n",
       "  <thead>\n",
       "    <tr style=\"text-align: right;\">\n",
       "      <th></th>\n",
       "      <th>price</th>\n",
       "      <th>location</th>\n",
       "      <th>geo_lat</th>\n",
       "      <th>geo_lng</th>\n",
       "      <th>metro</th>\n",
       "      <th>floor</th>\n",
       "      <th>floor_count</th>\n",
       "      <th>square</th>\n",
       "      <th>living_square</th>\n",
       "      <th>kitchen_square</th>\n",
       "      <th>...</th>\n",
       "      <th>ceiling_height</th>\n",
       "      <th>view</th>\n",
       "      <th>house_type</th>\n",
       "      <th>heating</th>\n",
       "      <th>breakdown</th>\n",
       "      <th>parking</th>\n",
       "      <th>accomodation_type</th>\n",
       "      <th>author</th>\n",
       "      <th>url</th>\n",
       "      <th>room_count</th>\n",
       "    </tr>\n",
       "  </thead>\n",
       "  <tbody>\n",
       "    <tr>\n",
       "      <th>0</th>\n",
       "      <td>18374400</td>\n",
       "      <td>Москва, СВАО, р-н Марьина роща, Тэйт жилой ком...</td>\n",
       "      <td>55.80253</td>\n",
       "      <td>37.620945</td>\n",
       "      <td>Марьина Роща</td>\n",
       "      <td>34</td>\n",
       "      <td>49</td>\n",
       "      <td>38.28</td>\n",
       "      <td>11.8</td>\n",
       "      <td>unknown</td>\n",
       "      <td>...</td>\n",
       "      <td>3.12</td>\n",
       "      <td>unknown</td>\n",
       "      <td>Монолитно-кирпичный</td>\n",
       "      <td>unknown</td>\n",
       "      <td>unknown</td>\n",
       "      <td>unknown</td>\n",
       "      <td>Новостройка</td>\n",
       "      <td>КОРТРОС</td>\n",
       "      <td>https://www.cian.ru/sale/flat/302789697/</td>\n",
       "      <td>1</td>\n",
       "    </tr>\n",
       "    <tr>\n",
       "      <th>1</th>\n",
       "      <td>49954800</td>\n",
       "      <td>Москва, ЦАО, р-н Таганский, Славянская пл., 2/5с1</td>\n",
       "      <td>55.752541</td>\n",
       "      <td>37.635727</td>\n",
       "      <td>Китай</td>\n",
       "      <td>7</td>\n",
       "      <td>8</td>\n",
       "      <td>53.20</td>\n",
       "      <td>unknown</td>\n",
       "      <td>24.1</td>\n",
       "      <td>...</td>\n",
       "      <td>3.0</td>\n",
       "      <td>unknown</td>\n",
       "      <td>Монолитно-кирпичный</td>\n",
       "      <td>unknown</td>\n",
       "      <td>unknown</td>\n",
       "      <td>unknown</td>\n",
       "      <td>Вторичка / Апартаменты</td>\n",
       "      <td>unknown</td>\n",
       "      <td>https://www.cian.ru/sale/flat/301496936/</td>\n",
       "      <td>1</td>\n",
       "    </tr>\n",
       "    <tr>\n",
       "      <th>2</th>\n",
       "      <td>8170000</td>\n",
       "      <td>Москва, НАО (Новомосковский), Филимонковское п...</td>\n",
       "      <td>55.552637</td>\n",
       "      <td>37.337172</td>\n",
       "      <td>Филатов Луг</td>\n",
       "      <td>2</td>\n",
       "      <td>5</td>\n",
       "      <td>31.00</td>\n",
       "      <td>unknown</td>\n",
       "      <td>10.0</td>\n",
       "      <td>...</td>\n",
       "      <td>3.0</td>\n",
       "      <td>Во двор</td>\n",
       "      <td>unknown</td>\n",
       "      <td>Нет информации</td>\n",
       "      <td>Нет</td>\n",
       "      <td>unknown</td>\n",
       "      <td>Вторичка</td>\n",
       "      <td>unknown</td>\n",
       "      <td>https://www.cian.ru/sale/flat/303552909/</td>\n",
       "      <td>1</td>\n",
       "    </tr>\n",
       "    <tr>\n",
       "      <th>3</th>\n",
       "      <td>20206500</td>\n",
       "      <td>Москва, СВАО, р-н Останкинский, ул. Годовикова...</td>\n",
       "      <td>55.810466</td>\n",
       "      <td>37.624247</td>\n",
       "      <td>Алексеевская</td>\n",
       "      <td>34</td>\n",
       "      <td>37</td>\n",
       "      <td>28.50</td>\n",
       "      <td>21.4</td>\n",
       "      <td>unknown</td>\n",
       "      <td>...</td>\n",
       "      <td>3.01</td>\n",
       "      <td>На улицу</td>\n",
       "      <td>Монолитно-кирпичный</td>\n",
       "      <td>unknown</td>\n",
       "      <td>unknown</td>\n",
       "      <td>unknown</td>\n",
       "      <td>Новостройка</td>\n",
       "      <td>КОРТРОС</td>\n",
       "      <td>https://www.cian.ru/sale/flat/306568424/</td>\n",
       "      <td>1</td>\n",
       "    </tr>\n",
       "    <tr>\n",
       "      <th>4</th>\n",
       "      <td>17119620</td>\n",
       "      <td>Москва, ЮАО, р-н Даниловский, Автозаводская ул...</td>\n",
       "      <td>55.706597</td>\n",
       "      <td>37.632285</td>\n",
       "      <td>Тульская</td>\n",
       "      <td>6</td>\n",
       "      <td>20</td>\n",
       "      <td>38.82</td>\n",
       "      <td>10.6</td>\n",
       "      <td>18.6</td>\n",
       "      <td>...</td>\n",
       "      <td>2.85</td>\n",
       "      <td>Во двор</td>\n",
       "      <td>Монолитный</td>\n",
       "      <td>unknown</td>\n",
       "      <td>unknown</td>\n",
       "      <td>unknown</td>\n",
       "      <td>Новостройка</td>\n",
       "      <td>unknown</td>\n",
       "      <td>https://www.cian.ru/sale/flat/305679800/</td>\n",
       "      <td>1</td>\n",
       "    </tr>\n",
       "  </tbody>\n",
       "</table>\n",
       "<p>5 rows × 22 columns</p>\n",
       "</div>"
      ],
      "text/plain": [
       "      price                                           location    geo_lat  \\\n",
       "0  18374400  Москва, СВАО, р-н Марьина роща, Тэйт жилой ком...   55.80253   \n",
       "1  49954800  Москва, ЦАО, р-н Таганский, Славянская пл., 2/5с1  55.752541   \n",
       "2   8170000  Москва, НАО (Новомосковский), Филимонковское п...  55.552637   \n",
       "3  20206500  Москва, СВАО, р-н Останкинский, ул. Годовикова...  55.810466   \n",
       "4  17119620  Москва, ЮАО, р-н Даниловский, Автозаводская ул...  55.706597   \n",
       "\n",
       "     geo_lng         metro  floor  floor_count  square living_square  \\\n",
       "0  37.620945  Марьина Роща     34           49   38.28          11.8   \n",
       "1  37.635727         Китай      7            8   53.20       unknown   \n",
       "2  37.337172   Филатов Луг      2            5   31.00       unknown   \n",
       "3  37.624247  Алексеевская     34           37   28.50          21.4   \n",
       "4  37.632285      Тульская      6           20   38.82          10.6   \n",
       "\n",
       "  kitchen_square  ... ceiling_height      view           house_type  \\\n",
       "0        unknown  ...           3.12   unknown  Монолитно-кирпичный   \n",
       "1           24.1  ...            3.0   unknown  Монолитно-кирпичный   \n",
       "2           10.0  ...            3.0   Во двор              unknown   \n",
       "3        unknown  ...           3.01  На улицу  Монолитно-кирпичный   \n",
       "4           18.6  ...           2.85   Во двор           Монолитный   \n",
       "\n",
       "          heating breakdown  parking       accomodation_type   author  \\\n",
       "0         unknown   unknown  unknown             Новостройка  КОРТРОС   \n",
       "1         unknown   unknown  unknown  Вторичка / Апартаменты  unknown   \n",
       "2  Нет информации       Нет  unknown                Вторичка  unknown   \n",
       "3         unknown   unknown  unknown             Новостройка  КОРТРОС   \n",
       "4         unknown   unknown  unknown             Новостройка  unknown   \n",
       "\n",
       "                                        url room_count  \n",
       "0  https://www.cian.ru/sale/flat/302789697/          1  \n",
       "1  https://www.cian.ru/sale/flat/301496936/          1  \n",
       "2  https://www.cian.ru/sale/flat/303552909/          1  \n",
       "3  https://www.cian.ru/sale/flat/306568424/          1  \n",
       "4  https://www.cian.ru/sale/flat/305679800/          1  \n",
       "\n",
       "[5 rows x 22 columns]"
      ]
     },
     "execution_count": 3,
     "metadata": {},
     "output_type": "execute_result"
    }
   ],
   "source": [
    "df_cian = pd.read_csv(DATA_PATH + \"cian_houses_1_flats.csv\")\n",
    "df_cian[\"room_count\"] = 1\n",
    "\n",
    "for i in range(2, 6 + 1):\n",
    "    df_tmp = pd.read_csv(DATA_PATH + f\"cian_houses_{i}_flats.csv\")\n",
    "    df_tmp[\"room_count\"] = i\n",
    "    df_cian = pd.concat([df_cian, df_tmp], ignore_index=True, sort=False)\n",
    "\n",
    "df_cian.head()"
   ]
  },
  {
   "cell_type": "code",
   "execution_count": 4,
   "metadata": {},
   "outputs": [
    {
     "data": {
      "text/plain": [
       "(8053, 22)"
      ]
     },
     "execution_count": 4,
     "metadata": {},
     "output_type": "execute_result"
    }
   ],
   "source": [
    "df_cian.shape"
   ]
  },
  {
   "cell_type": "markdown",
   "metadata": {},
   "source": [
    "Удалим дубликаты, если они есть"
   ]
  },
  {
   "cell_type": "code",
   "execution_count": 5,
   "metadata": {},
   "outputs": [
    {
     "data": {
      "text/plain": [
       "(8053, 22)"
      ]
     },
     "execution_count": 5,
     "metadata": {},
     "output_type": "execute_result"
    }
   ],
   "source": [
    "df_cian.drop_duplicates()\n",
    "\n",
    "df_cian.shape"
   ]
  },
  {
   "cell_type": "markdown",
   "metadata": {},
   "source": [
    "Разделим на численные и категориальные фитчи"
   ]
  },
  {
   "cell_type": "code",
   "execution_count": 6,
   "metadata": {},
   "outputs": [],
   "source": [
    "numerical_features = [f for f in df_cian.columns if df_cian.dtypes[f] != 'object']\n",
    "categorical_features = [f for f in df_cian.columns if df_cian.dtypes[f] == 'object']"
   ]
  },
  {
   "cell_type": "code",
   "execution_count": 7,
   "metadata": {},
   "outputs": [
    {
     "data": {
      "text/plain": [
       "['floor', 'floor_count', 'square', 'room_count']"
      ]
     },
     "execution_count": 7,
     "metadata": {},
     "output_type": "execute_result"
    }
   ],
   "source": [
    "numerical_features"
   ]
  },
  {
   "cell_type": "markdown",
   "metadata": {},
   "source": [
    "В `numerical_features` должны присутствовать еще поля `price`, `geo_lat`, `geo_lng`, `living square`, `kitchen_square`, `ceiling_height`.\n",
    "\n",
    "\n",
    "Если с последними 3-я полями понятно, что могут присутствовать `unknown` значения, то с первыми 3-я надо разобраться."
   ]
  },
  {
   "cell_type": "markdown",
   "metadata": {},
   "source": [
    "Рассмотрим `price`"
   ]
  },
  {
   "cell_type": "code",
   "execution_count": 8,
   "metadata": {},
   "outputs": [
    {
     "data": {
      "text/plain": [
       "(int, float, float)"
      ]
     },
     "execution_count": 8,
     "metadata": {},
     "output_type": "execute_result"
    }
   ],
   "source": [
    "type(df_cian[\"price\"][0]), type(df_cian[\"geo_lat\"][0]), type(df_cian[\"geo_lng\"][0]), "
   ]
  },
  {
   "cell_type": "markdown",
   "metadata": {},
   "source": [
    "тип данных &mdash; str, посмотрим м.б. присутствуют неизвестные значения"
   ]
  },
  {
   "cell_type": "code",
   "execution_count": 9,
   "metadata": {},
   "outputs": [
    {
     "data": {
      "text/html": [
       "<div>\n",
       "<style scoped>\n",
       "    .dataframe tbody tr th:only-of-type {\n",
       "        vertical-align: middle;\n",
       "    }\n",
       "\n",
       "    .dataframe tbody tr th {\n",
       "        vertical-align: top;\n",
       "    }\n",
       "\n",
       "    .dataframe thead th {\n",
       "        text-align: right;\n",
       "    }\n",
       "</style>\n",
       "<table border=\"1\" class=\"dataframe\">\n",
       "  <thead>\n",
       "    <tr style=\"text-align: right;\">\n",
       "      <th></th>\n",
       "      <th>price</th>\n",
       "      <th>location</th>\n",
       "      <th>geo_lat</th>\n",
       "      <th>geo_lng</th>\n",
       "      <th>metro</th>\n",
       "      <th>floor</th>\n",
       "      <th>floor_count</th>\n",
       "      <th>square</th>\n",
       "      <th>living_square</th>\n",
       "      <th>kitchen_square</th>\n",
       "      <th>...</th>\n",
       "      <th>ceiling_height</th>\n",
       "      <th>view</th>\n",
       "      <th>house_type</th>\n",
       "      <th>heating</th>\n",
       "      <th>breakdown</th>\n",
       "      <th>parking</th>\n",
       "      <th>accomodation_type</th>\n",
       "      <th>author</th>\n",
       "      <th>url</th>\n",
       "      <th>room_count</th>\n",
       "    </tr>\n",
       "  </thead>\n",
       "  <tbody>\n",
       "    <tr>\n",
       "      <th>2733</th>\n",
       "      <td>unknown</td>\n",
       "      <td>Москва, НАО (Новомосковский), № 82 квартал, Но...</td>\n",
       "      <td>unknown</td>\n",
       "      <td>unknown</td>\n",
       "      <td>Филатов Луг</td>\n",
       "      <td>7</td>\n",
       "      <td>7</td>\n",
       "      <td>58.4</td>\n",
       "      <td>unknown</td>\n",
       "      <td>11.4</td>\n",
       "      <td>...</td>\n",
       "      <td>2.7</td>\n",
       "      <td>На улицу</td>\n",
       "      <td>Монолитно-кирпичный</td>\n",
       "      <td>unknown</td>\n",
       "      <td>unknown</td>\n",
       "      <td>unknown</td>\n",
       "      <td>Новостройка</td>\n",
       "      <td>Класс</td>\n",
       "      <td>https://www.cian.ru/sale/flat/296320615/</td>\n",
       "      <td>2</td>\n",
       "    </tr>\n",
       "    <tr>\n",
       "      <th>2734</th>\n",
       "      <td>unknown</td>\n",
       "      <td>Москва, НАО (Новомосковский), № 82 квартал, Но...</td>\n",
       "      <td>unknown</td>\n",
       "      <td>unknown</td>\n",
       "      <td>Филатов Луг</td>\n",
       "      <td>7</td>\n",
       "      <td>7</td>\n",
       "      <td>58.4</td>\n",
       "      <td>unknown</td>\n",
       "      <td>11.4</td>\n",
       "      <td>...</td>\n",
       "      <td>2.7</td>\n",
       "      <td>На улицу</td>\n",
       "      <td>Монолитно-кирпичный</td>\n",
       "      <td>unknown</td>\n",
       "      <td>unknown</td>\n",
       "      <td>unknown</td>\n",
       "      <td>Новостройка</td>\n",
       "      <td>Класс</td>\n",
       "      <td>https://www.cian.ru/sale/flat/299551896/</td>\n",
       "      <td>2</td>\n",
       "    </tr>\n",
       "  </tbody>\n",
       "</table>\n",
       "<p>2 rows × 22 columns</p>\n",
       "</div>"
      ],
      "text/plain": [
       "        price                                           location  geo_lat  \\\n",
       "2733  unknown  Москва, НАО (Новомосковский), № 82 квартал, Но...  unknown   \n",
       "2734  unknown  Москва, НАО (Новомосковский), № 82 квартал, Но...  unknown   \n",
       "\n",
       "      geo_lng        metro  floor  floor_count  square living_square  \\\n",
       "2733  unknown  Филатов Луг      7            7    58.4       unknown   \n",
       "2734  unknown  Филатов Луг      7            7    58.4       unknown   \n",
       "\n",
       "     kitchen_square  ... ceiling_height      view           house_type  \\\n",
       "2733           11.4  ...            2.7  На улицу  Монолитно-кирпичный   \n",
       "2734           11.4  ...            2.7  На улицу  Монолитно-кирпичный   \n",
       "\n",
       "      heating breakdown  parking accomodation_type author  \\\n",
       "2733  unknown   unknown  unknown       Новостройка  Класс   \n",
       "2734  unknown   unknown  unknown       Новостройка  Класс   \n",
       "\n",
       "                                           url room_count  \n",
       "2733  https://www.cian.ru/sale/flat/296320615/          2  \n",
       "2734  https://www.cian.ru/sale/flat/299551896/          2  \n",
       "\n",
       "[2 rows x 22 columns]"
      ]
     },
     "execution_count": 9,
     "metadata": {},
     "output_type": "execute_result"
    }
   ],
   "source": [
    "df_cian[df_cian[\"price\"] == \"unknown\"]"
   ]
  },
  {
   "cell_type": "markdown",
   "metadata": {},
   "source": [
    "Видно, что произошла ошибка при загрузке данных."
   ]
  },
  {
   "cell_type": "markdown",
   "metadata": {},
   "source": [
    "Можно и удалить эти данные, но так как присутствует множество остальных значений, попробуем восстановить пропуски в ручную."
   ]
  },
  {
   "cell_type": "code",
   "execution_count": 10,
   "metadata": {},
   "outputs": [],
   "source": [
    "# If you want to delete data with \"unknown\" price\n",
    "# df_cian = df_cian.drop(df_cian[df_cian[\"price\"] == \"unknown\"].index)"
   ]
  },
  {
   "cell_type": "code",
   "execution_count": 11,
   "metadata": {},
   "outputs": [],
   "source": [
    "df_cian.loc[df_cian[\"url\"] == \"https://www.cian.ru/sale/flat/296320615/\", \"price\"] = \"16544720\"\n",
    "df_cian.loc[df_cian[\"url\"] == \"https://www.cian.ru/sale/flat/296320615/\", \"geo_lat\"] = \"55.571953\"\n",
    "df_cian.loc[df_cian[\"url\"] == \"https://www.cian.ru/sale/flat/296320615/\", \"geo_lng\"] = \"37.383118\"\n",
    "\n",
    "df_cian.loc[df_cian[\"url\"] == \"https://www.cian.ru/sale/flat/299551896/\", \"price\"] = \"16650000\"\n",
    "df_cian.loc[df_cian[\"url\"] == \"https://www.cian.ru/sale/flat/299551896/\", \"location\"] = \"Москва, НАО (Новомосковский), Внуковское поселение, ул. Самуила Маршака, 23\"\n",
    "df_cian.loc[df_cian[\"url\"] == \"https://www.cian.ru/sale/flat/299551896/\", \"geo_lat\"] = \"55.634116\"\n",
    "df_cian.loc[df_cian[\"url\"] == \"https://www.cian.ru/sale/flat/299551896/\", \"geo_lng\"] = \"37.320039\"\n",
    "df_cian.loc[df_cian[\"url\"] == \"https://www.cian.ru/sale/flat/299551896/\", \"metro\"] = \"Рассказовка\"\n",
    "df_cian.loc[df_cian[\"url\"] == \"https://www.cian.ru/sale/flat/299551896/\", \"floor\"] = 17\n",
    "df_cian.loc[df_cian[\"url\"] == \"https://www.cian.ru/sale/flat/299551896/\", \"floor_count\"] = 17\n",
    "df_cian.loc[df_cian[\"url\"] == \"https://www.cian.ru/sale/flat/299551896/\", \"square\"] = 59.0\n",
    "df_cian.loc[df_cian[\"url\"] == \"https://www.cian.ru/sale/flat/299551896/\", \"living_square\"] = 32.0\n",
    "df_cian.loc[df_cian[\"url\"] == \"https://www.cian.ru/sale/flat/299551896/\", \"kitchen_square\"] = 13.\n",
    "df_cian.loc[df_cian[\"url\"] == \"https://www.cian.ru/sale/flat/299551896/\", \"ceiling_height\"] = 2.8\n",
    "df_cian.loc[df_cian[\"url\"] == \"https://www.cian.ru/sale/flat/299551896/\", \"view\"] = \"На улицу и двор\"\n",
    "df_cian.loc[df_cian[\"url\"] == \"https://www.cian.ru/sale/flat/299551896/\", \"heating\"] = \"Центральное\"\n",
    "df_cian.loc[df_cian[\"url\"] == \"https://www.cian.ru/sale/flat/299551896/\", \"breakdown\"] = \"Нет\"\n",
    "df_cian.loc[df_cian[\"url\"] == \"https://www.cian.ru/sale/flat/299551896/\", \"house_type\"] = \"Панельный\"\n",
    "df_cian.loc[df_cian[\"url\"] == \"https://www.cian.ru/sale/flat/299551896/\", \"year\"] = 2016\n",
    "df_cian.loc[df_cian[\"url\"] == \"https://www.cian.ru/sale/flat/299551896/\", \"author\"] = \"unknown\"\n",
    "df_cian.loc[df_cian[\"url\"] == \"https://www.cian.ru/sale/flat/299551896/\", \"accomodation_type\"] = \"Вторичка\""
   ]
  },
  {
   "cell_type": "code",
   "execution_count": 12,
   "metadata": {},
   "outputs": [
    {
     "data": {
      "text/html": [
       "<div>\n",
       "<style scoped>\n",
       "    .dataframe tbody tr th:only-of-type {\n",
       "        vertical-align: middle;\n",
       "    }\n",
       "\n",
       "    .dataframe tbody tr th {\n",
       "        vertical-align: top;\n",
       "    }\n",
       "\n",
       "    .dataframe thead th {\n",
       "        text-align: right;\n",
       "    }\n",
       "</style>\n",
       "<table border=\"1\" class=\"dataframe\">\n",
       "  <thead>\n",
       "    <tr style=\"text-align: right;\">\n",
       "      <th></th>\n",
       "      <th>price</th>\n",
       "      <th>location</th>\n",
       "      <th>geo_lat</th>\n",
       "      <th>geo_lng</th>\n",
       "      <th>metro</th>\n",
       "      <th>floor</th>\n",
       "      <th>floor_count</th>\n",
       "      <th>square</th>\n",
       "      <th>living_square</th>\n",
       "      <th>kitchen_square</th>\n",
       "      <th>...</th>\n",
       "      <th>ceiling_height</th>\n",
       "      <th>view</th>\n",
       "      <th>house_type</th>\n",
       "      <th>heating</th>\n",
       "      <th>breakdown</th>\n",
       "      <th>parking</th>\n",
       "      <th>accomodation_type</th>\n",
       "      <th>author</th>\n",
       "      <th>url</th>\n",
       "      <th>room_count</th>\n",
       "    </tr>\n",
       "  </thead>\n",
       "  <tbody>\n",
       "    <tr>\n",
       "      <th>2733</th>\n",
       "      <td>16544720</td>\n",
       "      <td>Москва, НАО (Новомосковский), № 82 квартал, Но...</td>\n",
       "      <td>55.571953</td>\n",
       "      <td>37.383118</td>\n",
       "      <td>Филатов Луг</td>\n",
       "      <td>7</td>\n",
       "      <td>7</td>\n",
       "      <td>58.4</td>\n",
       "      <td>unknown</td>\n",
       "      <td>11.4</td>\n",
       "      <td>...</td>\n",
       "      <td>2.7</td>\n",
       "      <td>На улицу</td>\n",
       "      <td>Монолитно-кирпичный</td>\n",
       "      <td>unknown</td>\n",
       "      <td>unknown</td>\n",
       "      <td>unknown</td>\n",
       "      <td>Новостройка</td>\n",
       "      <td>Класс</td>\n",
       "      <td>https://www.cian.ru/sale/flat/296320615/</td>\n",
       "      <td>2</td>\n",
       "    </tr>\n",
       "  </tbody>\n",
       "</table>\n",
       "<p>1 rows × 22 columns</p>\n",
       "</div>"
      ],
      "text/plain": [
       "         price                                           location    geo_lat  \\\n",
       "2733  16544720  Москва, НАО (Новомосковский), № 82 квартал, Но...  55.571953   \n",
       "\n",
       "        geo_lng        metro  floor  floor_count  square living_square  \\\n",
       "2733  37.383118  Филатов Луг      7            7    58.4       unknown   \n",
       "\n",
       "     kitchen_square  ... ceiling_height      view           house_type  \\\n",
       "2733           11.4  ...            2.7  На улицу  Монолитно-кирпичный   \n",
       "\n",
       "      heating breakdown  parking accomodation_type author  \\\n",
       "2733  unknown   unknown  unknown       Новостройка  Класс   \n",
       "\n",
       "                                           url room_count  \n",
       "2733  https://www.cian.ru/sale/flat/296320615/          2  \n",
       "\n",
       "[1 rows x 22 columns]"
      ]
     },
     "execution_count": 12,
     "metadata": {},
     "output_type": "execute_result"
    }
   ],
   "source": [
    "df_cian.loc[df_cian[\"url\"] == \"https://www.cian.ru/sale/flat/296320615/\"]\n"
   ]
  },
  {
   "cell_type": "code",
   "execution_count": 13,
   "metadata": {},
   "outputs": [
    {
     "data": {
      "text/html": [
       "<div>\n",
       "<style scoped>\n",
       "    .dataframe tbody tr th:only-of-type {\n",
       "        vertical-align: middle;\n",
       "    }\n",
       "\n",
       "    .dataframe tbody tr th {\n",
       "        vertical-align: top;\n",
       "    }\n",
       "\n",
       "    .dataframe thead th {\n",
       "        text-align: right;\n",
       "    }\n",
       "</style>\n",
       "<table border=\"1\" class=\"dataframe\">\n",
       "  <thead>\n",
       "    <tr style=\"text-align: right;\">\n",
       "      <th></th>\n",
       "      <th>price</th>\n",
       "      <th>location</th>\n",
       "      <th>geo_lat</th>\n",
       "      <th>geo_lng</th>\n",
       "      <th>metro</th>\n",
       "      <th>floor</th>\n",
       "      <th>floor_count</th>\n",
       "      <th>square</th>\n",
       "      <th>living_square</th>\n",
       "      <th>kitchen_square</th>\n",
       "      <th>...</th>\n",
       "      <th>ceiling_height</th>\n",
       "      <th>view</th>\n",
       "      <th>house_type</th>\n",
       "      <th>heating</th>\n",
       "      <th>breakdown</th>\n",
       "      <th>parking</th>\n",
       "      <th>accomodation_type</th>\n",
       "      <th>author</th>\n",
       "      <th>url</th>\n",
       "      <th>room_count</th>\n",
       "    </tr>\n",
       "  </thead>\n",
       "  <tbody>\n",
       "    <tr>\n",
       "      <th>2734</th>\n",
       "      <td>16650000</td>\n",
       "      <td>Москва, НАО (Новомосковский), Внуковское посел...</td>\n",
       "      <td>55.634116</td>\n",
       "      <td>37.320039</td>\n",
       "      <td>Рассказовка</td>\n",
       "      <td>17</td>\n",
       "      <td>17</td>\n",
       "      <td>59.0</td>\n",
       "      <td>32.0</td>\n",
       "      <td>13.0</td>\n",
       "      <td>...</td>\n",
       "      <td>2.8</td>\n",
       "      <td>На улицу и двор</td>\n",
       "      <td>Панельный</td>\n",
       "      <td>Центральное</td>\n",
       "      <td>Нет</td>\n",
       "      <td>unknown</td>\n",
       "      <td>Вторичка</td>\n",
       "      <td>unknown</td>\n",
       "      <td>https://www.cian.ru/sale/flat/299551896/</td>\n",
       "      <td>2</td>\n",
       "    </tr>\n",
       "  </tbody>\n",
       "</table>\n",
       "<p>1 rows × 22 columns</p>\n",
       "</div>"
      ],
      "text/plain": [
       "         price                                           location    geo_lat  \\\n",
       "2734  16650000  Москва, НАО (Новомосковский), Внуковское посел...  55.634116   \n",
       "\n",
       "        geo_lng        metro  floor  floor_count  square living_square  \\\n",
       "2734  37.320039  Рассказовка     17           17    59.0          32.0   \n",
       "\n",
       "     kitchen_square  ... ceiling_height             view house_type  \\\n",
       "2734           13.0  ...            2.8  На улицу и двор  Панельный   \n",
       "\n",
       "          heating breakdown  parking accomodation_type   author  \\\n",
       "2734  Центральное       Нет  unknown          Вторичка  unknown   \n",
       "\n",
       "                                           url room_count  \n",
       "2734  https://www.cian.ru/sale/flat/299551896/          2  \n",
       "\n",
       "[1 rows x 22 columns]"
      ]
     },
     "execution_count": 13,
     "metadata": {},
     "output_type": "execute_result"
    }
   ],
   "source": [
    "df_cian.loc[df_cian[\"url\"] == \"https://www.cian.ru/sale/flat/299551896/\"]"
   ]
  },
  {
   "cell_type": "markdown",
   "metadata": {},
   "source": [
    "Исправим типы данных"
   ]
  },
  {
   "cell_type": "code",
   "execution_count": 14,
   "metadata": {},
   "outputs": [],
   "source": [
    "df_cian[\"price\"] = df_cian[\"price\"].apply(lambda x: int(x))\n",
    "df_cian[\"geo_lat\"] = df_cian[\"geo_lat\"].apply(lambda x: float(x))\n",
    "df_cian[\"geo_lng\"] = df_cian[\"geo_lng\"].apply(lambda x: float(x))"
   ]
  },
  {
   "cell_type": "markdown",
   "metadata": {},
   "source": [
    "Посмотрим на численные и категориальные фитчи снова"
   ]
  },
  {
   "cell_type": "code",
   "execution_count": 15,
   "metadata": {},
   "outputs": [],
   "source": [
    "numerical_features = [f for f in df_cian.columns if df_cian.dtypes[f] != 'object']\n",
    "categorical_features = [f for f in df_cian.columns if df_cian.dtypes[f] == 'object']"
   ]
  },
  {
   "cell_type": "code",
   "execution_count": 16,
   "metadata": {},
   "outputs": [
    {
     "data": {
      "text/plain": [
       "['price', 'geo_lat', 'geo_lng', 'floor', 'floor_count', 'square', 'room_count']"
      ]
     },
     "execution_count": 16,
     "metadata": {},
     "output_type": "execute_result"
    }
   ],
   "source": [
    "numerical_features"
   ]
  },
  {
   "cell_type": "markdown",
   "metadata": {},
   "source": [
    "Численные фитчи выправились, в категориальных остались только те, в которых может присутствовать \"unknown\""
   ]
  },
  {
   "cell_type": "code",
   "execution_count": 17,
   "metadata": {},
   "outputs": [
    {
     "data": {
      "text/plain": [
       "array(['Марьина Роща', 'Китай', 'Филатов Луг', 'Алексеевская', 'Тульская',\n",
       "       'Трикотажная', 'ЦСКА', 'Пыхтино', 'Толстопальцево',\n",
       "       'Улица 1905 года', 'Автозаводская', 'Раменки', 'Бибирево',\n",
       "       'Маяковская', 'Нижегородская', 'Белорусская', 'Шелепиха',\n",
       "       'Фонвизинская', 'Новокузнецкая', 'Народное Ополчение',\n",
       "       'Улица Скобелевская', 'Нахимовский проспект', 'unknown',\n",
       "       'Сухаревская', 'Бауманская', 'ВДНХ', 'Серпуховская', 'Опалиха',\n",
       "       'Деловой центр', 'Калужская', 'Павшино', 'Пролетарская',\n",
       "       'Кунцевская', 'Мичуринский проспект', 'Беляево', 'Фили',\n",
       "       'Молжаниново', 'Молодёжная', 'Давыдково', 'Медведково',\n",
       "       'Железнодорожная', 'Воробьёвы горы', 'Павелецкая', 'Хорошёво',\n",
       "       'Щёлковская', 'Москва', 'Новокосино', 'Третьяковская',\n",
       "       'Дмитровская', 'Прокшино', 'Перово', 'Измайловская', 'Борисово',\n",
       "       'Волгоградский проспект', 'Минская', 'Аминьевская', 'Крылатское',\n",
       "       'Зеленоград', 'Варшавская', 'Воронцовская', 'Котельники',\n",
       "       'Некрасовка', 'Новомосковская', 'Парк Победы', 'Планерная',\n",
       "       'Зябликово', 'Киевская', 'Нагорная', 'Бабушкинская',\n",
       "       'Ленинский проспект', 'Пятницкое шоссе', 'Окружная', 'Спартак',\n",
       "       'Пражская', 'Чистые пруды', 'Владыкино', 'Водники', 'Хлебниково',\n",
       "       'Ясенево', 'Немчиновка', 'Спортивная', 'Преображенская площадь',\n",
       "       'Чкаловская', 'Юго', 'Окская', 'Фрунзенская', 'Братиславская',\n",
       "       'Петровский Парк', 'Ипподром', 'Семёновская', 'Хорошёвская',\n",
       "       'Улица Милашенкова', 'Потапово', 'Водный стадион',\n",
       "       'Октябрьское поле', 'Нахабино', 'Беломорская', 'Щукинская',\n",
       "       'Ботанический сад', 'Александровский сад', 'Полежаевская',\n",
       "       'Ильинская', 'Римская', 'Стрешнево', 'Текстильщики',\n",
       "       'Бунинская аллея', 'Тёплый Стан', 'Ольховая', 'Мичуринец',\n",
       "       'Ростокино', 'Зорге', 'Лухмановская', 'Речной вокзал', 'Панки',\n",
       "       'Реутов', 'Новогиреево', 'Грачёвская', 'Мещерская', 'Беговая',\n",
       "       'Аннино', 'Нагатинская', 'Салтыковская', 'Курская', 'Рассказовка',\n",
       "       'Аэропорт', 'Корниловская откроется', 'Яхромская', 'Лесопарковая',\n",
       "       'Пенягино', 'ЗИЛ', 'Люберцы', 'Печатники', 'Стахановская',\n",
       "       'Кленовый бульвар', 'Новопеределкино', 'Сокол', 'Коломенская',\n",
       "       'Войковская', 'Люблино', 'Бульвар Дмитрия', 'Отрадное',\n",
       "       'Соколиная гора', 'Лесной Городок', 'Бутырская', 'Саларьево',\n",
       "       'Аникеевка', 'Красногвардейская', 'Зюзино', 'Ватутинки откроется',\n",
       "       'Комсомольская', 'Селигерская', 'Одинцово', 'Марьино',\n",
       "       'Бирюлёво откроется', 'Царицыно', 'Щербинка', 'Кучино', 'Удельная',\n",
       "       'Лобня', 'Митино', 'Домодедовская', 'Подольск', 'Сходня',\n",
       "       'Жулебино', 'Выхино', 'Крёкшино', 'Левобережная',\n",
       "       'Электрозаводская', 'Бутово', 'Силикатная', 'Строгино',\n",
       "       'Партизанская', 'Белокаменная', 'Отдых', 'Аэропорт Внуково',\n",
       "       'Бескудниково', 'Апрелевка', 'Первомайская', 'Долгопрудная',\n",
       "       'Новоясеневская', 'Химки', 'Никольское', 'Рязанский проспект',\n",
       "       'Тушинская', 'Улица Академика', 'Лианозово',\n",
       "       'Бульвар Рокоссовского', 'Коптево', 'Шоссе Энтузиастов',\n",
       "       'Новые Черёмушки', 'Матвеевская', 'Волоколамская', 'Говорово',\n",
       "       'Алтуфьево', 'Петровско', 'Сходненская', 'Крымская', 'Сокольники',\n",
       "       'Динамо', 'Дубровка', 'Площадь Ильича', 'Академическая', 'Сетунь',\n",
       "       'Авиамоторная', 'Технопарк', 'Нагатинский Затон', 'Профсоюзная',\n",
       "       'Ломоносовский проспект', 'Терехово 16 мин', 'Красногорская',\n",
       "       'Лефортово', 'Рижская', 'Новослободская', 'Терехово 18 мин',\n",
       "       'Смоленская', 'Есенинская', 'Битца', 'Южная', 'Сколково',\n",
       "       'Раменское', 'Кокошкино', 'Физтех', 'Томилино', 'Фирсановская',\n",
       "       'Санино', 'Новоподрезково', 'Кузьминки', 'Остафьево', 'Ольгино',\n",
       "       'Победа', 'Подрезково', 'Площадь Революции', 'Рабочий посёлок',\n",
       "       'Мякинино', 'Кожуховская', 'Полянка', 'Кропоткинская', 'Быково',\n",
       "       'Фабричная', 'Красные ворота', 'Парк Культуры', 'Менделеевская',\n",
       "       'Кантемировская', 'Кутузовская', 'Поклонная', 'Новаторская',\n",
       "       'Солнцево', 'Баррикадная', 'Боровицкая', 'Краснопресненская',\n",
       "       'Озёрная', 'Телецентр', 'Арбатская', 'Каховская', 'Ховрино',\n",
       "       'Университет', 'Таганская', 'Пушкинская', 'Проспект Мира',\n",
       "       'Улица Старокачаловская', 'Верхние Лихоборы', 'Багратионовская',\n",
       "       'Тропарёво', 'Марксистская', 'Студенческая', 'Калитники',\n",
       "       'Шипиловская', 'Терехово 17 мин', 'Октябрьская', 'Добрынинская',\n",
       "       'Терехово 19 мин', 'Серебряный Бор', 'Ухтомская', 'Площадь трёх',\n",
       "       'Коньково', 'Площадь Гагарина', 'Шаболовская', 'Севастопольская',\n",
       "       'Волжская', 'Перерва', 'Покровское', 'Внуково', 'Терехово 23 мин',\n",
       "       'Малаховка', 'Улица Сергея', 'Кедровая откроется',\n",
       "       'Красный Балтиец', 'Лермонтовский проспект',\n",
       "       'Проспект Вернадского', 'Цветной бульвар', 'Тверская', 'Красково',\n",
       "       'Баковка', 'Чертановская', 'Курьяново', 'Савёловская',\n",
       "       'Филёвский парк', 'Славянский бульвар', 'Лубянка',\n",
       "       'Боровское шоссе', 'Свиблово', 'Охотный ряд', 'Достоевская',\n",
       "       'Тургеневская', 'Терехово 21 мин', 'Красносельская',\n",
       "       'Бульвар Адмирала', 'Улица Дмитриевского', 'Пионерская',\n",
       "       'Крестьянская застава', 'Терехово 5 мин', 'Терехово 8 мин',\n",
       "       'Сретенский бульвар', 'Трубная', 'Тимирязевская', 'Театральная',\n",
       "       'Мнёвники', 'Кузнецкий мост', 'Терехово 7 мин', 'Румянцево',\n",
       "       'Орехово', 'Терехово 22 мин', 'Алма', 'Звенигородская откроется',\n",
       "       'Бульвар Генерала', 'Коммунарка', 'Локомотив', 'Чеховская',\n",
       "       'Балтийская', 'Карамышевская'], dtype=object)"
      ]
     },
     "execution_count": 17,
     "metadata": {},
     "output_type": "execute_result"
    }
   ],
   "source": [
    "df_cian[\"metro\"].unique()"
   ]
  },
  {
   "cell_type": "markdown",
   "metadata": {},
   "source": [
    "Присутствуют значения содержащие количество минут до станции метро. Выберем и посмотрим на них."
   ]
  },
  {
   "cell_type": "code",
   "execution_count": 18,
   "metadata": {},
   "outputs": [
    {
     "data": {
      "text/plain": [
       "659     Терехово 16 мин\n",
       "685     Терехово 16 мин\n",
       "696     Терехово 18 мин\n",
       "1990    Терехово 17 мин\n",
       "2044    Терехово 19 мин\n",
       "2358    Терехово 23 мин\n",
       "2363    Терехово 23 мин\n",
       "2384    Терехово 23 мин\n",
       "2582    Терехово 23 мин\n",
       "2615    Терехово 23 мин\n",
       "2926    Терехово 18 мин\n",
       "3138    Терехово 21 мин\n",
       "3424    Терехово 23 мин\n",
       "3436    Терехово 23 мин\n",
       "3496     Терехово 5 мин\n",
       "3508    Терехово 23 мин\n",
       "3553     Терехово 8 мин\n",
       "3597    Терехово 18 мин\n",
       "4029    Терехово 17 мин\n",
       "4710     Терехово 7 мин\n",
       "4861    Терехово 23 мин\n",
       "4951    Терехово 22 мин\n",
       "5666    Терехово 23 мин\n",
       "6156    Терехово 18 мин\n",
       "6434     Терехово 5 мин\n",
       "Name: metro, dtype: object"
      ]
     },
     "execution_count": 18,
     "metadata": {},
     "output_type": "execute_result"
    }
   ],
   "source": [
    "tmp = df_cian[\"metro\"].str.contains(r\"\\s\\d+\\sмин\", regex=True).to_frame()\n",
    "df_cian[tmp[\"metro\"] == True][\"metro\"]"
   ]
  },
  {
   "cell_type": "markdown",
   "metadata": {},
   "source": [
    "Такое произошло только со станцией Терехово. Исправим данную ситуацию, оставив только название станции метро."
   ]
  },
  {
   "cell_type": "code",
   "execution_count": 19,
   "metadata": {},
   "outputs": [
    {
     "data": {
      "text/plain": [
       "659     Терехово\n",
       "685     Терехово\n",
       "696     Терехово\n",
       "1990    Терехово\n",
       "2044    Терехово\n",
       "2358    Терехово\n",
       "2363    Терехово\n",
       "2384    Терехово\n",
       "2582    Терехово\n",
       "2615    Терехово\n",
       "2926    Терехово\n",
       "3138    Терехово\n",
       "3424    Терехово\n",
       "3436    Терехово\n",
       "3496    Терехово\n",
       "3508    Терехово\n",
       "3553    Терехово\n",
       "3597    Терехово\n",
       "4029    Терехово\n",
       "4710    Терехово\n",
       "4861    Терехово\n",
       "4951    Терехово\n",
       "5666    Терехово\n",
       "6156    Терехово\n",
       "6434    Терехово\n",
       "Name: metro, dtype: object"
      ]
     },
     "execution_count": 19,
     "metadata": {},
     "output_type": "execute_result"
    }
   ],
   "source": [
    "tmp = df_cian[\"metro\"].str.contains(r\"\\s\\d+\\sмин\", regex=True).to_frame()\n",
    "df_cian.loc[tmp[\"metro\"] == True, \"metro\"] = df_cian[tmp[\"metro\"] == True][\"metro\"].apply(lambda x: x.split()[0])\n",
    "df_cian[tmp[\"metro\"] == True][\"metro\"]"
   ]
  },
  {
   "cell_type": "markdown",
   "metadata": {},
   "source": [
    "Исправлено."
   ]
  },
  {
   "cell_type": "code",
   "execution_count": 20,
   "metadata": {},
   "outputs": [
    {
     "data": {
      "text/html": [
       "<div>\n",
       "<style scoped>\n",
       "    .dataframe tbody tr th:only-of-type {\n",
       "        vertical-align: middle;\n",
       "    }\n",
       "\n",
       "    .dataframe tbody tr th {\n",
       "        vertical-align: top;\n",
       "    }\n",
       "\n",
       "    .dataframe thead th {\n",
       "        text-align: right;\n",
       "    }\n",
       "</style>\n",
       "<table border=\"1\" class=\"dataframe\">\n",
       "  <thead>\n",
       "    <tr style=\"text-align: right;\">\n",
       "      <th></th>\n",
       "      <th>price</th>\n",
       "      <th>location</th>\n",
       "      <th>geo_lat</th>\n",
       "      <th>geo_lng</th>\n",
       "      <th>metro</th>\n",
       "      <th>floor</th>\n",
       "      <th>floor_count</th>\n",
       "      <th>square</th>\n",
       "      <th>living_square</th>\n",
       "      <th>kitchen_square</th>\n",
       "      <th>...</th>\n",
       "      <th>ceiling_height</th>\n",
       "      <th>view</th>\n",
       "      <th>house_type</th>\n",
       "      <th>heating</th>\n",
       "      <th>breakdown</th>\n",
       "      <th>parking</th>\n",
       "      <th>accomodation_type</th>\n",
       "      <th>author</th>\n",
       "      <th>url</th>\n",
       "      <th>room_count</th>\n",
       "    </tr>\n",
       "  </thead>\n",
       "  <tbody>\n",
       "    <tr>\n",
       "      <th>719</th>\n",
       "      <td>2990000</td>\n",
       "      <td>Москва, ВАО, р-н Северное Измайлово, Сиреневый...</td>\n",
       "      <td>55.803155</td>\n",
       "      <td>37.785009</td>\n",
       "      <td>Щёлковская</td>\n",
       "      <td>2</td>\n",
       "      <td>6</td>\n",
       "      <td>9.6</td>\n",
       "      <td>unknown</td>\n",
       "      <td>2.0</td>\n",
       "      <td>...</td>\n",
       "      <td>unknown</td>\n",
       "      <td>unknown</td>\n",
       "      <td>Блочный</td>\n",
       "      <td>unknown</td>\n",
       "      <td>unknown</td>\n",
       "      <td>unknown</td>\n",
       "      <td>Вторичка / Апартаменты</td>\n",
       "      <td>unknown</td>\n",
       "      <td>https://www.cian.ru/sale/flat/301136222/</td>\n",
       "      <td>1</td>\n",
       "    </tr>\n",
       "  </tbody>\n",
       "</table>\n",
       "<p>1 rows × 22 columns</p>\n",
       "</div>"
      ],
      "text/plain": [
       "       price                                           location    geo_lat  \\\n",
       "719  2990000  Москва, ВАО, р-н Северное Измайлово, Сиреневый...  55.803155   \n",
       "\n",
       "       geo_lng       metro  floor  floor_count  square living_square  \\\n",
       "719  37.785009  Щёлковская      2            6     9.6       unknown   \n",
       "\n",
       "    kitchen_square  ... ceiling_height     view house_type  heating breakdown  \\\n",
       "719            2.0  ...        unknown  unknown    Блочный  unknown   unknown   \n",
       "\n",
       "     parking       accomodation_type   author  \\\n",
       "719  unknown  Вторичка / Апартаменты  unknown   \n",
       "\n",
       "                                          url room_count  \n",
       "719  https://www.cian.ru/sale/flat/301136222/          1  \n",
       "\n",
       "[1 rows x 22 columns]"
      ]
     },
     "execution_count": 20,
     "metadata": {},
     "output_type": "execute_result"
    }
   ],
   "source": [
    "df_cian[(df_cian[\"square\"] <= 10.0) & (df_cian[\"room_count\"] == 1)].sort_values(by=\"square\")\n"
   ]
  },
  {
   "cell_type": "code",
   "execution_count": 21,
   "metadata": {},
   "outputs": [
    {
     "data": {
      "text/html": [
       "<div>\n",
       "<style scoped>\n",
       "    .dataframe tbody tr th:only-of-type {\n",
       "        vertical-align: middle;\n",
       "    }\n",
       "\n",
       "    .dataframe tbody tr th {\n",
       "        vertical-align: top;\n",
       "    }\n",
       "\n",
       "    .dataframe thead th {\n",
       "        text-align: right;\n",
       "    }\n",
       "</style>\n",
       "<table border=\"1\" class=\"dataframe\">\n",
       "  <thead>\n",
       "    <tr style=\"text-align: right;\">\n",
       "      <th></th>\n",
       "      <th>price</th>\n",
       "      <th>location</th>\n",
       "      <th>geo_lat</th>\n",
       "      <th>geo_lng</th>\n",
       "      <th>metro</th>\n",
       "      <th>floor</th>\n",
       "      <th>floor_count</th>\n",
       "      <th>square</th>\n",
       "      <th>living_square</th>\n",
       "      <th>kitchen_square</th>\n",
       "      <th>...</th>\n",
       "      <th>ceiling_height</th>\n",
       "      <th>view</th>\n",
       "      <th>house_type</th>\n",
       "      <th>heating</th>\n",
       "      <th>breakdown</th>\n",
       "      <th>parking</th>\n",
       "      <th>accomodation_type</th>\n",
       "      <th>author</th>\n",
       "      <th>url</th>\n",
       "      <th>room_count</th>\n",
       "    </tr>\n",
       "  </thead>\n",
       "  <tbody>\n",
       "  </tbody>\n",
       "</table>\n",
       "<p>0 rows × 22 columns</p>\n",
       "</div>"
      ],
      "text/plain": [
       "Empty DataFrame\n",
       "Columns: [price, location, geo_lat, geo_lng, metro, floor, floor_count, square, living_square, kitchen_square, year, finish_type, ceiling_height, view, house_type, heating, breakdown, parking, accomodation_type, author, url, room_count]\n",
       "Index: []\n",
       "\n",
       "[0 rows x 22 columns]"
      ]
     },
     "execution_count": 21,
     "metadata": {},
     "output_type": "execute_result"
    }
   ],
   "source": [
    "df_cian[(df_cian[\"square\"] <= 20.0) & (df_cian[\"room_count\"] == 2)].sort_values(by=\"square\")\n"
   ]
  },
  {
   "cell_type": "code",
   "execution_count": 22,
   "metadata": {},
   "outputs": [
    {
     "data": {
      "text/html": [
       "<div>\n",
       "<style scoped>\n",
       "    .dataframe tbody tr th:only-of-type {\n",
       "        vertical-align: middle;\n",
       "    }\n",
       "\n",
       "    .dataframe tbody tr th {\n",
       "        vertical-align: top;\n",
       "    }\n",
       "\n",
       "    .dataframe thead th {\n",
       "        text-align: right;\n",
       "    }\n",
       "</style>\n",
       "<table border=\"1\" class=\"dataframe\">\n",
       "  <thead>\n",
       "    <tr style=\"text-align: right;\">\n",
       "      <th></th>\n",
       "      <th>price</th>\n",
       "      <th>location</th>\n",
       "      <th>geo_lat</th>\n",
       "      <th>geo_lng</th>\n",
       "      <th>metro</th>\n",
       "      <th>floor</th>\n",
       "      <th>floor_count</th>\n",
       "      <th>square</th>\n",
       "      <th>living_square</th>\n",
       "      <th>kitchen_square</th>\n",
       "      <th>...</th>\n",
       "      <th>ceiling_height</th>\n",
       "      <th>view</th>\n",
       "      <th>house_type</th>\n",
       "      <th>heating</th>\n",
       "      <th>breakdown</th>\n",
       "      <th>parking</th>\n",
       "      <th>accomodation_type</th>\n",
       "      <th>author</th>\n",
       "      <th>url</th>\n",
       "      <th>room_count</th>\n",
       "    </tr>\n",
       "  </thead>\n",
       "  <tbody>\n",
       "    <tr>\n",
       "      <th>3110</th>\n",
       "      <td>1650000</td>\n",
       "      <td>Московская область, Пушкинский городской округ...</td>\n",
       "      <td>55.971053</td>\n",
       "      <td>37.932351</td>\n",
       "      <td>unknown</td>\n",
       "      <td>3</td>\n",
       "      <td>5</td>\n",
       "      <td>29.0</td>\n",
       "      <td>unknown</td>\n",
       "      <td>10.0</td>\n",
       "      <td>...</td>\n",
       "      <td>2.65</td>\n",
       "      <td>Во двор</td>\n",
       "      <td>Кирпичный</td>\n",
       "      <td>Центральное</td>\n",
       "      <td>Нет</td>\n",
       "      <td>unknown</td>\n",
       "      <td>Вторичка</td>\n",
       "      <td>unknown</td>\n",
       "      <td>https://ivanteyevka.cian.ru/sale/flat/304682314/</td>\n",
       "      <td>3</td>\n",
       "    </tr>\n",
       "  </tbody>\n",
       "</table>\n",
       "<p>1 rows × 22 columns</p>\n",
       "</div>"
      ],
      "text/plain": [
       "        price                                           location    geo_lat  \\\n",
       "3110  1650000  Московская область, Пушкинский городской округ...  55.971053   \n",
       "\n",
       "        geo_lng    metro  floor  floor_count  square living_square  \\\n",
       "3110  37.932351  unknown      3            5    29.0       unknown   \n",
       "\n",
       "     kitchen_square  ... ceiling_height     view house_type      heating  \\\n",
       "3110           10.0  ...           2.65  Во двор  Кирпичный  Центральное   \n",
       "\n",
       "     breakdown  parking accomodation_type   author  \\\n",
       "3110       Нет  unknown          Вторичка  unknown   \n",
       "\n",
       "                                                   url room_count  \n",
       "3110  https://ivanteyevka.cian.ru/sale/flat/304682314/          3  \n",
       "\n",
       "[1 rows x 22 columns]"
      ]
     },
     "execution_count": 22,
     "metadata": {},
     "output_type": "execute_result"
    }
   ],
   "source": [
    "df_cian[(df_cian[\"square\"] <= 30.0) & (df_cian[\"room_count\"] == 3)].sort_values(by=\"square\")\n"
   ]
  },
  {
   "cell_type": "code",
   "execution_count": 23,
   "metadata": {},
   "outputs": [
    {
     "data": {
      "text/html": [
       "<div>\n",
       "<style scoped>\n",
       "    .dataframe tbody tr th:only-of-type {\n",
       "        vertical-align: middle;\n",
       "    }\n",
       "\n",
       "    .dataframe tbody tr th {\n",
       "        vertical-align: top;\n",
       "    }\n",
       "\n",
       "    .dataframe thead th {\n",
       "        text-align: right;\n",
       "    }\n",
       "</style>\n",
       "<table border=\"1\" class=\"dataframe\">\n",
       "  <thead>\n",
       "    <tr style=\"text-align: right;\">\n",
       "      <th></th>\n",
       "      <th>price</th>\n",
       "      <th>location</th>\n",
       "      <th>geo_lat</th>\n",
       "      <th>geo_lng</th>\n",
       "      <th>metro</th>\n",
       "      <th>floor</th>\n",
       "      <th>floor_count</th>\n",
       "      <th>square</th>\n",
       "      <th>living_square</th>\n",
       "      <th>kitchen_square</th>\n",
       "      <th>...</th>\n",
       "      <th>ceiling_height</th>\n",
       "      <th>view</th>\n",
       "      <th>house_type</th>\n",
       "      <th>heating</th>\n",
       "      <th>breakdown</th>\n",
       "      <th>parking</th>\n",
       "      <th>accomodation_type</th>\n",
       "      <th>author</th>\n",
       "      <th>url</th>\n",
       "      <th>room_count</th>\n",
       "    </tr>\n",
       "  </thead>\n",
       "  <tbody>\n",
       "  </tbody>\n",
       "</table>\n",
       "<p>0 rows × 22 columns</p>\n",
       "</div>"
      ],
      "text/plain": [
       "Empty DataFrame\n",
       "Columns: [price, location, geo_lat, geo_lng, metro, floor, floor_count, square, living_square, kitchen_square, year, finish_type, ceiling_height, view, house_type, heating, breakdown, parking, accomodation_type, author, url, room_count]\n",
       "Index: []\n",
       "\n",
       "[0 rows x 22 columns]"
      ]
     },
     "execution_count": 23,
     "metadata": {},
     "output_type": "execute_result"
    }
   ],
   "source": [
    "df_cian[(df_cian[\"square\"] <= 40.0) & (df_cian[\"room_count\"] == 4)].sort_values(by=\"square\")\n"
   ]
  },
  {
   "cell_type": "code",
   "execution_count": 24,
   "metadata": {},
   "outputs": [
    {
     "data": {
      "text/html": [
       "<div>\n",
       "<style scoped>\n",
       "    .dataframe tbody tr th:only-of-type {\n",
       "        vertical-align: middle;\n",
       "    }\n",
       "\n",
       "    .dataframe tbody tr th {\n",
       "        vertical-align: top;\n",
       "    }\n",
       "\n",
       "    .dataframe thead th {\n",
       "        text-align: right;\n",
       "    }\n",
       "</style>\n",
       "<table border=\"1\" class=\"dataframe\">\n",
       "  <thead>\n",
       "    <tr style=\"text-align: right;\">\n",
       "      <th></th>\n",
       "      <th>price</th>\n",
       "      <th>location</th>\n",
       "      <th>geo_lat</th>\n",
       "      <th>geo_lng</th>\n",
       "      <th>metro</th>\n",
       "      <th>floor</th>\n",
       "      <th>floor_count</th>\n",
       "      <th>square</th>\n",
       "      <th>living_square</th>\n",
       "      <th>kitchen_square</th>\n",
       "      <th>...</th>\n",
       "      <th>ceiling_height</th>\n",
       "      <th>view</th>\n",
       "      <th>house_type</th>\n",
       "      <th>heating</th>\n",
       "      <th>breakdown</th>\n",
       "      <th>parking</th>\n",
       "      <th>accomodation_type</th>\n",
       "      <th>author</th>\n",
       "      <th>url</th>\n",
       "      <th>room_count</th>\n",
       "    </tr>\n",
       "  </thead>\n",
       "  <tbody>\n",
       "  </tbody>\n",
       "</table>\n",
       "<p>0 rows × 22 columns</p>\n",
       "</div>"
      ],
      "text/plain": [
       "Empty DataFrame\n",
       "Columns: [price, location, geo_lat, geo_lng, metro, floor, floor_count, square, living_square, kitchen_square, year, finish_type, ceiling_height, view, house_type, heating, breakdown, parking, accomodation_type, author, url, room_count]\n",
       "Index: []\n",
       "\n",
       "[0 rows x 22 columns]"
      ]
     },
     "execution_count": 24,
     "metadata": {},
     "output_type": "execute_result"
    }
   ],
   "source": [
    "df_cian[(df_cian[\"square\"] <= 50.0) & (df_cian[\"room_count\"] == 5)].sort_values(by=\"square\")\n"
   ]
  },
  {
   "cell_type": "code",
   "execution_count": 25,
   "metadata": {},
   "outputs": [
    {
     "data": {
      "text/html": [
       "<div>\n",
       "<style scoped>\n",
       "    .dataframe tbody tr th:only-of-type {\n",
       "        vertical-align: middle;\n",
       "    }\n",
       "\n",
       "    .dataframe tbody tr th {\n",
       "        vertical-align: top;\n",
       "    }\n",
       "\n",
       "    .dataframe thead th {\n",
       "        text-align: right;\n",
       "    }\n",
       "</style>\n",
       "<table border=\"1\" class=\"dataframe\">\n",
       "  <thead>\n",
       "    <tr style=\"text-align: right;\">\n",
       "      <th></th>\n",
       "      <th>price</th>\n",
       "      <th>location</th>\n",
       "      <th>geo_lat</th>\n",
       "      <th>geo_lng</th>\n",
       "      <th>metro</th>\n",
       "      <th>floor</th>\n",
       "      <th>floor_count</th>\n",
       "      <th>square</th>\n",
       "      <th>living_square</th>\n",
       "      <th>kitchen_square</th>\n",
       "      <th>...</th>\n",
       "      <th>ceiling_height</th>\n",
       "      <th>view</th>\n",
       "      <th>house_type</th>\n",
       "      <th>heating</th>\n",
       "      <th>breakdown</th>\n",
       "      <th>parking</th>\n",
       "      <th>accomodation_type</th>\n",
       "      <th>author</th>\n",
       "      <th>url</th>\n",
       "      <th>room_count</th>\n",
       "    </tr>\n",
       "  </thead>\n",
       "  <tbody>\n",
       "  </tbody>\n",
       "</table>\n",
       "<p>0 rows × 22 columns</p>\n",
       "</div>"
      ],
      "text/plain": [
       "Empty DataFrame\n",
       "Columns: [price, location, geo_lat, geo_lng, metro, floor, floor_count, square, living_square, kitchen_square, year, finish_type, ceiling_height, view, house_type, heating, breakdown, parking, accomodation_type, author, url, room_count]\n",
       "Index: []\n",
       "\n",
       "[0 rows x 22 columns]"
      ]
     },
     "execution_count": 25,
     "metadata": {},
     "output_type": "execute_result"
    }
   ],
   "source": [
    "df_cian[(df_cian[\"square\"] <= 60.0) & (df_cian[\"room_count\"] == 6)].sort_values(by=\"square\")"
   ]
  },
  {
   "cell_type": "markdown",
   "metadata": {},
   "source": [
    "Save merged data"
   ]
  },
  {
   "cell_type": "code",
   "execution_count": 26,
   "metadata": {},
   "outputs": [],
   "source": [
    "df_cian.to_csv(DATA_PATH + \"cian_houses_dataset.csv\", index=False)"
   ]
  },
  {
   "cell_type": "code",
   "execution_count": null,
   "metadata": {},
   "outputs": [],
   "source": []
  }
 ],
 "metadata": {
  "kernelspec": {
   "display_name": "env3.12",
   "language": "python",
   "name": "python3"
  },
  "language_info": {
   "codemirror_mode": {
    "name": "ipython",
    "version": 3
   },
   "file_extension": ".py",
   "mimetype": "text/x-python",
   "name": "python",
   "nbconvert_exporter": "python",
   "pygments_lexer": "ipython3",
   "version": "3.12.2"
  }
 },
 "nbformat": 4,
 "nbformat_minor": 2
}
