{
 "cells": [
  {
   "cell_type": "markdown",
   "metadata": {},
   "source": [
    "# Cian flats EDA"
   ]
  },
  {
   "cell_type": "code",
   "execution_count": 14,
   "metadata": {},
   "outputs": [
    {
     "name": "stdout",
     "output_type": "stream",
     "text": [
      "The autoreload extension is already loaded. To reload it, use:\n",
      "  %reload_ext autoreload\n"
     ]
    }
   ],
   "source": [
    "import numpy as np\n",
    "import pandas as pd\n",
    "import re\n",
    "\n",
    "import matplotlib.pyplot as plt\n",
    "import matplotlib.ticker as mticker\n",
    "\n",
    "import babel.numbers\n",
    "import json\n",
    "\n",
    "import seaborn as sns\n",
    "\n",
    "# USE THIS STYLE\n",
    "# plt.style.use('https://github.com/dhaitz/matplotlib-stylesheets/raw/master/pitayasmoothie-light.mplstyle')\n",
    "# \n",
    "# OR THIS STYLE\n",
    "import aquarel\n",
    "\n",
    "import warnings\n",
    "\n",
    "warnings.filterwarnings(\"ignore\")\n",
    "\n",
    "theme = aquarel.load_theme(\"arctic_light\")\n",
    "theme.set_font(family=\"serif\")\n",
    "theme.apply()\n",
    "\n",
    "# Сделаем автоподгрузку всех изменений при перепрогонке ячейки\n",
    "%load_ext autoreload\n",
    "%autoreload 2\n",
    "\n",
    "%matplotlib inline"
   ]
  },
  {
   "cell_type": "code",
   "execution_count": 15,
   "metadata": {},
   "outputs": [],
   "source": [
    "custom_pallete = {\n",
    "    \"red\": \"#BF616A\",\n",
    "    \"orange\": \"#D08770\",\n",
    "    \"yellow\": \"#EBCB8B\",\n",
    "    \"green\": \"#A3BE8C\",\n",
    "    \"purple\": \"#B48EAD\",\n",
    "    \"light_green\": \"#8FBCBB\",\n",
    "    \"light_gray_blue\": \"#88C0D0\",\n",
    "    \"light_blue\": \"#81A1C1\",\n",
    "    \"blue\": \"#5E81AC\",\n",
    "}"
   ]
  },
  {
   "cell_type": "markdown",
   "metadata": {},
   "source": [
    "## Load data"
   ]
  },
  {
   "cell_type": "code",
   "execution_count": 16,
   "metadata": {},
   "outputs": [
    {
     "data": {
      "text/html": [
       "<div>\n",
       "<style scoped>\n",
       "    .dataframe tbody tr th:only-of-type {\n",
       "        vertical-align: middle;\n",
       "    }\n",
       "\n",
       "    .dataframe tbody tr th {\n",
       "        vertical-align: top;\n",
       "    }\n",
       "\n",
       "    .dataframe thead th {\n",
       "        text-align: right;\n",
       "    }\n",
       "</style>\n",
       "<table border=\"1\" class=\"dataframe\">\n",
       "  <thead>\n",
       "    <tr style=\"text-align: right;\">\n",
       "      <th></th>\n",
       "      <th>price</th>\n",
       "      <th>geo_lat</th>\n",
       "      <th>geo_lng</th>\n",
       "      <th>metro</th>\n",
       "      <th>floor</th>\n",
       "      <th>floor_count</th>\n",
       "      <th>square</th>\n",
       "      <th>living_square</th>\n",
       "      <th>kitchen_square</th>\n",
       "      <th>year</th>\n",
       "      <th>...</th>\n",
       "      <th>house_type</th>\n",
       "      <th>heating</th>\n",
       "      <th>breakdown</th>\n",
       "      <th>accomodation_type</th>\n",
       "      <th>author</th>\n",
       "      <th>room_count</th>\n",
       "      <th>floor_ratio</th>\n",
       "      <th>room_ratio</th>\n",
       "      <th>living_ratio</th>\n",
       "      <th>kitchen_ratio</th>\n",
       "    </tr>\n",
       "  </thead>\n",
       "  <tbody>\n",
       "    <tr>\n",
       "      <th>0</th>\n",
       "      <td>18374400</td>\n",
       "      <td>55.802530</td>\n",
       "      <td>37.620945</td>\n",
       "      <td>Марьина Роща</td>\n",
       "      <td>34</td>\n",
       "      <td>49</td>\n",
       "      <td>38.28</td>\n",
       "      <td>11.80</td>\n",
       "      <td>10.23</td>\n",
       "      <td>2027</td>\n",
       "      <td>...</td>\n",
       "      <td>Монолитно-кирпичный</td>\n",
       "      <td>unknown</td>\n",
       "      <td>unknown</td>\n",
       "      <td>Новостройка</td>\n",
       "      <td>КОРТРОС</td>\n",
       "      <td>1</td>\n",
       "      <td>0.693878</td>\n",
       "      <td>38.28</td>\n",
       "      <td>0.308255</td>\n",
       "      <td>0.267241</td>\n",
       "    </tr>\n",
       "    <tr>\n",
       "      <th>1</th>\n",
       "      <td>8170000</td>\n",
       "      <td>55.552637</td>\n",
       "      <td>37.337172</td>\n",
       "      <td>Аэропорт Внуково</td>\n",
       "      <td>2</td>\n",
       "      <td>5</td>\n",
       "      <td>31.00</td>\n",
       "      <td>14.61</td>\n",
       "      <td>10.00</td>\n",
       "      <td>2021</td>\n",
       "      <td>...</td>\n",
       "      <td>unknown</td>\n",
       "      <td>unknown</td>\n",
       "      <td>Нет</td>\n",
       "      <td>Вторичка</td>\n",
       "      <td>unknown</td>\n",
       "      <td>1</td>\n",
       "      <td>0.400000</td>\n",
       "      <td>31.00</td>\n",
       "      <td>0.471290</td>\n",
       "      <td>0.322581</td>\n",
       "    </tr>\n",
       "    <tr>\n",
       "      <th>2</th>\n",
       "      <td>20206500</td>\n",
       "      <td>55.810466</td>\n",
       "      <td>37.624247</td>\n",
       "      <td>Алексеевская</td>\n",
       "      <td>34</td>\n",
       "      <td>37</td>\n",
       "      <td>28.50</td>\n",
       "      <td>21.40</td>\n",
       "      <td>7.62</td>\n",
       "      <td>2024</td>\n",
       "      <td>...</td>\n",
       "      <td>Монолитно-кирпичный</td>\n",
       "      <td>unknown</td>\n",
       "      <td>unknown</td>\n",
       "      <td>Новостройка</td>\n",
       "      <td>КОРТРОС</td>\n",
       "      <td>1</td>\n",
       "      <td>0.918919</td>\n",
       "      <td>28.50</td>\n",
       "      <td>0.750877</td>\n",
       "      <td>0.267368</td>\n",
       "    </tr>\n",
       "    <tr>\n",
       "      <th>3</th>\n",
       "      <td>17119620</td>\n",
       "      <td>55.706597</td>\n",
       "      <td>37.632285</td>\n",
       "      <td>Тульская</td>\n",
       "      <td>6</td>\n",
       "      <td>20</td>\n",
       "      <td>38.82</td>\n",
       "      <td>10.60</td>\n",
       "      <td>18.60</td>\n",
       "      <td>2024</td>\n",
       "      <td>...</td>\n",
       "      <td>Монолитный</td>\n",
       "      <td>unknown</td>\n",
       "      <td>unknown</td>\n",
       "      <td>Новостройка</td>\n",
       "      <td>unknown</td>\n",
       "      <td>1</td>\n",
       "      <td>0.300000</td>\n",
       "      <td>38.82</td>\n",
       "      <td>0.273055</td>\n",
       "      <td>0.479134</td>\n",
       "    </tr>\n",
       "    <tr>\n",
       "      <th>4</th>\n",
       "      <td>7550000</td>\n",
       "      <td>55.551456</td>\n",
       "      <td>37.339499</td>\n",
       "      <td>Филатов луг</td>\n",
       "      <td>2</td>\n",
       "      <td>5</td>\n",
       "      <td>30.00</td>\n",
       "      <td>15.00</td>\n",
       "      <td>9.00</td>\n",
       "      <td>2021</td>\n",
       "      <td>...</td>\n",
       "      <td>unknown</td>\n",
       "      <td>unknown</td>\n",
       "      <td>Нет</td>\n",
       "      <td>Вторичка</td>\n",
       "      <td>unknown</td>\n",
       "      <td>1</td>\n",
       "      <td>0.400000</td>\n",
       "      <td>30.00</td>\n",
       "      <td>0.500000</td>\n",
       "      <td>0.300000</td>\n",
       "    </tr>\n",
       "  </tbody>\n",
       "</table>\n",
       "<p>5 rows × 23 columns</p>\n",
       "</div>"
      ],
      "text/plain": [
       "      price    geo_lat    geo_lng             metro  floor  floor_count  \\\n",
       "0  18374400  55.802530  37.620945      Марьина Роща     34           49   \n",
       "1   8170000  55.552637  37.337172  Аэропорт Внуково      2            5   \n",
       "2  20206500  55.810466  37.624247      Алексеевская     34           37   \n",
       "3  17119620  55.706597  37.632285          Тульская      6           20   \n",
       "4   7550000  55.551456  37.339499       Филатов луг      2            5   \n",
       "\n",
       "   square  living_square  kitchen_square  year  ...           house_type  \\\n",
       "0   38.28          11.80           10.23  2027  ...  Монолитно-кирпичный   \n",
       "1   31.00          14.61           10.00  2021  ...              unknown   \n",
       "2   28.50          21.40            7.62  2024  ...  Монолитно-кирпичный   \n",
       "3   38.82          10.60           18.60  2024  ...           Монолитный   \n",
       "4   30.00          15.00            9.00  2021  ...              unknown   \n",
       "\n",
       "   heating breakdown accomodation_type   author room_count floor_ratio  \\\n",
       "0  unknown   unknown       Новостройка  КОРТРОС          1    0.693878   \n",
       "1  unknown       Нет          Вторичка  unknown          1    0.400000   \n",
       "2  unknown   unknown       Новостройка  КОРТРОС          1    0.918919   \n",
       "3  unknown   unknown       Новостройка  unknown          1    0.300000   \n",
       "4  unknown       Нет          Вторичка  unknown          1    0.400000   \n",
       "\n",
       "  room_ratio  living_ratio  kitchen_ratio  \n",
       "0      38.28      0.308255       0.267241  \n",
       "1      31.00      0.471290       0.322581  \n",
       "2      28.50      0.750877       0.267368  \n",
       "3      38.82      0.273055       0.479134  \n",
       "4      30.00      0.500000       0.300000  \n",
       "\n",
       "[5 rows x 23 columns]"
      ]
     },
     "execution_count": 16,
     "metadata": {},
     "output_type": "execute_result"
    }
   ],
   "source": [
    "df_cian = pd.read_csv(\"./data/cian_houses_training.csv\")\n",
    "df_cian.head()"
   ]
  },
  {
   "cell_type": "code",
   "execution_count": 17,
   "metadata": {},
   "outputs": [
    {
     "data": {
      "text/plain": [
       "(6524, 23)"
      ]
     },
     "execution_count": 17,
     "metadata": {},
     "output_type": "execute_result"
    }
   ],
   "source": [
    "df_cian.shape"
   ]
  },
  {
   "cell_type": "code",
   "execution_count": 18,
   "metadata": {},
   "outputs": [
    {
     "data": {
      "text/html": [
       "<div>\n",
       "<style scoped>\n",
       "    .dataframe tbody tr th:only-of-type {\n",
       "        vertical-align: middle;\n",
       "    }\n",
       "\n",
       "    .dataframe tbody tr th {\n",
       "        vertical-align: top;\n",
       "    }\n",
       "\n",
       "    .dataframe thead th {\n",
       "        text-align: right;\n",
       "    }\n",
       "</style>\n",
       "<table border=\"1\" class=\"dataframe\">\n",
       "  <thead>\n",
       "    <tr style=\"text-align: right;\">\n",
       "      <th></th>\n",
       "      <th>price</th>\n",
       "      <th>geo_lat</th>\n",
       "      <th>geo_lng</th>\n",
       "      <th>metro</th>\n",
       "      <th>floor</th>\n",
       "      <th>floor_count</th>\n",
       "      <th>square</th>\n",
       "      <th>living_square</th>\n",
       "      <th>kitchen_square</th>\n",
       "      <th>year</th>\n",
       "      <th>...</th>\n",
       "      <th>house_type</th>\n",
       "      <th>heating</th>\n",
       "      <th>breakdown</th>\n",
       "      <th>accomodation_type</th>\n",
       "      <th>author</th>\n",
       "      <th>room_count</th>\n",
       "      <th>floor_ratio</th>\n",
       "      <th>room_ratio</th>\n",
       "      <th>living_ratio</th>\n",
       "      <th>kitchen_ratio</th>\n",
       "    </tr>\n",
       "  </thead>\n",
       "  <tbody>\n",
       "    <tr>\n",
       "      <th>0</th>\n",
       "      <td>False</td>\n",
       "      <td>False</td>\n",
       "      <td>False</td>\n",
       "      <td>False</td>\n",
       "      <td>False</td>\n",
       "      <td>False</td>\n",
       "      <td>False</td>\n",
       "      <td>False</td>\n",
       "      <td>False</td>\n",
       "      <td>False</td>\n",
       "      <td>...</td>\n",
       "      <td>False</td>\n",
       "      <td>False</td>\n",
       "      <td>False</td>\n",
       "      <td>False</td>\n",
       "      <td>False</td>\n",
       "      <td>False</td>\n",
       "      <td>False</td>\n",
       "      <td>False</td>\n",
       "      <td>False</td>\n",
       "      <td>False</td>\n",
       "    </tr>\n",
       "  </tbody>\n",
       "</table>\n",
       "<p>1 rows × 23 columns</p>\n",
       "</div>"
      ],
      "text/plain": [
       "   price  geo_lat  geo_lng  metro  floor  floor_count  square  living_square  \\\n",
       "0  False    False    False  False  False        False   False          False   \n",
       "\n",
       "   kitchen_square   year  ...  house_type  heating  breakdown  \\\n",
       "0           False  False  ...       False    False      False   \n",
       "\n",
       "   accomodation_type  author  room_count  floor_ratio  room_ratio  \\\n",
       "0              False   False       False        False       False   \n",
       "\n",
       "   living_ratio  kitchen_ratio  \n",
       "0         False          False  \n",
       "\n",
       "[1 rows x 23 columns]"
      ]
     },
     "execution_count": 18,
     "metadata": {},
     "output_type": "execute_result"
    }
   ],
   "source": [
    "df_cian.isna().drop_duplicates()"
   ]
  },
  {
   "cell_type": "markdown",
   "metadata": {},
   "source": [
    "Все необходимые поля заполнены. (Важно, т.к. решается задача регрессии)"
   ]
  },
  {
   "cell_type": "code",
   "execution_count": 19,
   "metadata": {},
   "outputs": [],
   "source": [
    "from sklearn.preprocessing import StandardScaler, OneHotEncoder\n",
    "from sklearn.model_selection import train_test_split\n",
    "from sklearn.linear_model import LinearRegression\n",
    "from sklearn.metrics import r2_score, mean_absolute_error\n",
    "from sklearn.pipeline import make_pipeline\n",
    "from sklearn.compose import make_column_transformer\n",
    "\n",
    "import xgboost as xgb\n",
    "import lightgbm as lgb"
   ]
  },
  {
   "cell_type": "code",
   "execution_count": 20,
   "metadata": {},
   "outputs": [],
   "source": [
    "y = df_cian[\"price\"]\n",
    "X = df_cian.drop(columns=[\"price\"])\n",
    "\n",
    "X_train, X_test, y_train, y_test = train_test_split(\n",
    "    X,\n",
    "    y,\n",
    "    test_size=0.25,\n",
    "    random_state=42,\n",
    ")"
   ]
  },
  {
   "cell_type": "code",
   "execution_count": 21,
   "metadata": {},
   "outputs": [
    {
     "data": {
      "text/plain": [
       "(['geo_lat',\n",
       "  'geo_lng',\n",
       "  'floor',\n",
       "  'floor_count',\n",
       "  'square',\n",
       "  'living_square',\n",
       "  'kitchen_square',\n",
       "  'year',\n",
       "  'ceiling_height',\n",
       "  'room_count',\n",
       "  'floor_ratio',\n",
       "  'room_ratio',\n",
       "  'living_ratio',\n",
       "  'kitchen_ratio'],\n",
       " ['metro',\n",
       "  'finish_type',\n",
       "  'view',\n",
       "  'house_type',\n",
       "  'heating',\n",
       "  'breakdown',\n",
       "  'accomodation_type',\n",
       "  'author'])"
      ]
     },
     "execution_count": 21,
     "metadata": {},
     "output_type": "execute_result"
    }
   ],
   "source": [
    "numerical_features = [f for f in X_train.columns if X_train.dtypes[f] != 'object']\n",
    "categorical_features = [f for f in X_train.columns if X_train.dtypes[f] == 'object']\n",
    "\n",
    "numerical_features, categorical_features"
   ]
  },
  {
   "cell_type": "code",
   "execution_count": 22,
   "metadata": {},
   "outputs": [],
   "source": [
    "preprocessor = make_column_transformer(\n",
    "    (StandardScaler(), numerical_features),\n",
    "    (OneHotEncoder(handle_unknown=\"ignore\", drop=\"first\"), categorical_features)\n",
    ")"
   ]
  },
  {
   "cell_type": "code",
   "execution_count": 23,
   "metadata": {},
   "outputs": [
    {
     "data": {
      "text/plain": [
       "(36250624.227694176, 0.773252909753818)"
      ]
     },
     "execution_count": 23,
     "metadata": {},
     "output_type": "execute_result"
    }
   ],
   "source": [
    "clf = make_pipeline(preprocessor, LinearRegression())\n",
    "clf.fit(X_train, y_train)\n",
    "y_pred = clf.predict(X_test)\n",
    "mean_absolute_error(y_test, y_pred), r2_score(y_test, y_pred)"
   ]
  },
  {
   "cell_type": "code",
   "execution_count": 24,
   "metadata": {},
   "outputs": [
    {
     "data": {
      "text/plain": [
       "(19671138.918004677, 0.8902243375778198)"
      ]
     },
     "execution_count": 24,
     "metadata": {},
     "output_type": "execute_result"
    }
   ],
   "source": [
    "# xgb_reg = xgb.XGBRegressor()\n",
    "clf = make_pipeline(preprocessor, xgb.XGBRegressor())\n",
    "clf.fit(X_train, y_train)\n",
    "y_pred = clf.predict(X_test)\n",
    "mean_absolute_error(y_test, y_pred), r2_score(y_test, y_pred)"
   ]
  },
  {
   "cell_type": "code",
   "execution_count": 25,
   "metadata": {},
   "outputs": [
    {
     "data": {
      "text/plain": [
       "(28299643.260882895, 0.8137798309326172)"
      ]
     },
     "execution_count": 25,
     "metadata": {},
     "output_type": "execute_result"
    }
   ],
   "source": [
    "clf = make_pipeline(preprocessor, xgb.XGBRFRegressor())\n",
    "clf.fit(X_train, y_train)\n",
    "y_pred = clf.predict(X_test)\n",
    "mean_absolute_error(y_test, y_pred), r2_score(y_test, y_pred)"
   ]
  },
  {
   "cell_type": "code",
   "execution_count": 26,
   "metadata": {},
   "outputs": [
    {
     "name": "stdout",
     "output_type": "stream",
     "text": [
      "[LightGBM] [Info] Auto-choosing row-wise multi-threading, the overhead of testing was 0.000975 seconds.\n",
      "You can set `force_row_wise=true` to remove the overhead.\n",
      "And if memory is not enough, you can set `force_col_wise=true`.\n",
      "[LightGBM] [Info] Total Bins 2854\n",
      "[LightGBM] [Info] Number of data points in the train set: 4893, number of used features: 133\n",
      "[LightGBM] [Info] Start training from score 95262929.838545\n"
     ]
    },
    {
     "data": {
      "text/plain": [
       "(19950427.959127583, 0.8878094559620686)"
      ]
     },
     "execution_count": 26,
     "metadata": {},
     "output_type": "execute_result"
    }
   ],
   "source": [
    "clf = make_pipeline(preprocessor, lgb.LGBMRegressor())\n",
    "clf.fit(X_train, y_train)\n",
    "y_pred = clf.predict(X_test)\n",
    "mean_absolute_error(y_test, y_pred), r2_score(y_test, y_pred)"
   ]
  },
  {
   "cell_type": "code",
   "execution_count": null,
   "metadata": {},
   "outputs": [],
   "source": []
  }
 ],
 "metadata": {
  "kernelspec": {
   "display_name": "base",
   "language": "python",
   "name": "python3"
  },
  "language_info": {
   "codemirror_mode": {
    "name": "ipython",
    "version": 3
   },
   "file_extension": ".py",
   "mimetype": "text/x-python",
   "name": "python",
   "nbconvert_exporter": "python",
   "pygments_lexer": "ipython3",
   "version": "3.12.2"
  }
 },
 "nbformat": 4,
 "nbformat_minor": 2
}
