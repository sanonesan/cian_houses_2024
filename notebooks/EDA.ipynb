{
 "cells": [
  {
   "cell_type": "markdown",
   "metadata": {},
   "source": [
    "# Cian flats EDA"
   ]
  },
  {
   "cell_type": "code",
   "execution_count": 26,
   "metadata": {},
   "outputs": [],
   "source": [
    "import numpy as np\n",
    "import pandas as pd\n",
    "\n",
    "import matplotlib.pyplot as plt\n",
    "\n",
    "import seaborn as sns\n",
    "\n",
    "# USE THIS STYLE\n",
    "# plt.style.use('https://github.com/dhaitz/matplotlib-stylesheets/raw/master/pitayasmoothie-light.mplstyle')\n",
    "# \n",
    "# OR THIS STYLE\n",
    "import aquarel\n",
    "\n",
    "theme = aquarel.load_theme(\"arctic_light\")\n",
    "theme.set_font(family=\"serif\")\n",
    "theme.apply()\n",
    "\n",
    "# Сделаем автоподгрузку всех изменений при перепрогонке ячейки\n",
    "%load_ext autoreload\n",
    "%autoreload 2\n",
    "\n",
    "%matplotlib inline"
   ]
  },
  {
   "cell_type": "code",
   "execution_count": 29,
   "metadata": {},
   "outputs": [],
   "source": [
    "custom_pallete = {\n",
    "    \"red\": \"#BF616A\",\n",
    "    \"orange\": \"#D08770\",\n",
    "    \"yellow\": \"#EBCB8B\",\n",
    "    \"green\": \"#A3BE8C\",\n",
    "    \"purple\": \"#B48EAD\",\n",
    "    \"light_green\": \"#8FBCBB\",\n",
    "    \"light_gray_blue\": \"#88C0D0\",\n",
    "    \"light_blue\": \"#81A1C1\",\n",
    "    \"blue\": \"#5E81AC\",\n",
    "}"
   ]
  },
  {
   "cell_type": "markdown",
   "metadata": {},
   "source": [
    "## Load data"
   ]
  },
  {
   "cell_type": "code",
   "execution_count": 3,
   "metadata": {},
   "outputs": [
    {
     "data": {
      "text/html": [
       "<div>\n",
       "<style scoped>\n",
       "    .dataframe tbody tr th:only-of-type {\n",
       "        vertical-align: middle;\n",
       "    }\n",
       "\n",
       "    .dataframe tbody tr th {\n",
       "        vertical-align: top;\n",
       "    }\n",
       "\n",
       "    .dataframe thead th {\n",
       "        text-align: right;\n",
       "    }\n",
       "</style>\n",
       "<table border=\"1\" class=\"dataframe\">\n",
       "  <thead>\n",
       "    <tr style=\"text-align: right;\">\n",
       "      <th></th>\n",
       "      <th>price</th>\n",
       "      <th>location</th>\n",
       "      <th>metro</th>\n",
       "      <th>floor</th>\n",
       "      <th>floor_count</th>\n",
       "      <th>square</th>\n",
       "      <th>living_square</th>\n",
       "      <th>kitchen_square</th>\n",
       "      <th>year</th>\n",
       "      <th>finish_type</th>\n",
       "      <th>ceiling_height</th>\n",
       "      <th>view</th>\n",
       "      <th>accomodation_type</th>\n",
       "      <th>url</th>\n",
       "    </tr>\n",
       "  </thead>\n",
       "  <tbody>\n",
       "    <tr>\n",
       "      <th>0</th>\n",
       "      <td>25107300</td>\n",
       "      <td>Москва, ЦАО, р-н Пресненский, Шелепихинское ш.</td>\n",
       "      <td>Шелепиха</td>\n",
       "      <td>18</td>\n",
       "      <td>51</td>\n",
       "      <td>45.90</td>\n",
       "      <td>16.4</td>\n",
       "      <td>unknown</td>\n",
       "      <td>2024</td>\n",
       "      <td>Без отделки</td>\n",
       "      <td>3.1</td>\n",
       "      <td>На улицу</td>\n",
       "      <td>Новостройка</td>\n",
       "      <td>https://www.cian.ru/sale/flat/306796067/</td>\n",
       "    </tr>\n",
       "    <tr>\n",
       "      <th>1</th>\n",
       "      <td>130000000</td>\n",
       "      <td>Москва, ЦАО, р-н Хамовники, ул. Усачева, 15А</td>\n",
       "      <td>Спортивная</td>\n",
       "      <td>9</td>\n",
       "      <td>14</td>\n",
       "      <td>110.00</td>\n",
       "      <td>45.0</td>\n",
       "      <td>20.0</td>\n",
       "      <td>2022</td>\n",
       "      <td>Без ремонта</td>\n",
       "      <td>unknown</td>\n",
       "      <td>На улицу</td>\n",
       "      <td>Вторичка</td>\n",
       "      <td>https://www.cian.ru/sale/flat/304330115/</td>\n",
       "    </tr>\n",
       "    <tr>\n",
       "      <th>2</th>\n",
       "      <td>310361512</td>\n",
       "      <td>Москва, ЗАО, р-н Очаково-Матвеевское, Нежинска...</td>\n",
       "      <td>Давыдково</td>\n",
       "      <td>26</td>\n",
       "      <td>31</td>\n",
       "      <td>246.70</td>\n",
       "      <td>140.9</td>\n",
       "      <td>28.0</td>\n",
       "      <td>2008</td>\n",
       "      <td>Дизайнерский</td>\n",
       "      <td>3.1</td>\n",
       "      <td>unknown</td>\n",
       "      <td>Вторичка</td>\n",
       "      <td>https://www.cian.ru/sale/flat/301450189/</td>\n",
       "    </tr>\n",
       "    <tr>\n",
       "      <th>3</th>\n",
       "      <td>23676000</td>\n",
       "      <td>Москва, СВАО, р-н Марьина роща, Тэйт жилой ком...</td>\n",
       "      <td>Марьина Роща</td>\n",
       "      <td>5</td>\n",
       "      <td>49</td>\n",
       "      <td>59.19</td>\n",
       "      <td>24.2</td>\n",
       "      <td>unknown</td>\n",
       "      <td>2027</td>\n",
       "      <td>Предчистовая</td>\n",
       "      <td>3.12</td>\n",
       "      <td>unknown</td>\n",
       "      <td>Новостройка</td>\n",
       "      <td>https://www.cian.ru/sale/flat/296640150/</td>\n",
       "    </tr>\n",
       "    <tr>\n",
       "      <th>4</th>\n",
       "      <td>131000000</td>\n",
       "      <td>Москва, ЦАО, р-н Пресненский, Лаки жилой квартал</td>\n",
       "      <td>Улица 1905 года</td>\n",
       "      <td>6</td>\n",
       "      <td>21</td>\n",
       "      <td>114.00</td>\n",
       "      <td>40.9</td>\n",
       "      <td>35.0</td>\n",
       "      <td>unknown</td>\n",
       "      <td>Дизайнерский</td>\n",
       "      <td>unknown</td>\n",
       "      <td>unknown</td>\n",
       "      <td>Вторичка</td>\n",
       "      <td>https://www.cian.ru/sale/flat/304330219/</td>\n",
       "    </tr>\n",
       "  </tbody>\n",
       "</table>\n",
       "</div>"
      ],
      "text/plain": [
       "       price                                           location  \\\n",
       "0   25107300     Москва, ЦАО, р-н Пресненский, Шелепихинское ш.   \n",
       "1  130000000       Москва, ЦАО, р-н Хамовники, ул. Усачева, 15А   \n",
       "2  310361512  Москва, ЗАО, р-н Очаково-Матвеевское, Нежинска...   \n",
       "3   23676000  Москва, СВАО, р-н Марьина роща, Тэйт жилой ком...   \n",
       "4  131000000   Москва, ЦАО, р-н Пресненский, Лаки жилой квартал   \n",
       "\n",
       "             metro  floor  floor_count  square living_square kitchen_square  \\\n",
       "0         Шелепиха     18           51   45.90          16.4        unknown   \n",
       "1       Спортивная      9           14  110.00          45.0           20.0   \n",
       "2        Давыдково     26           31  246.70         140.9           28.0   \n",
       "3     Марьина Роща      5           49   59.19          24.2        unknown   \n",
       "4  Улица 1905 года      6           21  114.00          40.9           35.0   \n",
       "\n",
       "      year   finish_type ceiling_height      view accomodation_type  \\\n",
       "0     2024   Без отделки            3.1  На улицу       Новостройка   \n",
       "1     2022   Без ремонта        unknown  На улицу          Вторичка   \n",
       "2     2008  Дизайнерский            3.1   unknown          Вторичка   \n",
       "3     2027  Предчистовая           3.12   unknown       Новостройка   \n",
       "4  unknown  Дизайнерский        unknown   unknown          Вторичка   \n",
       "\n",
       "                                        url  \n",
       "0  https://www.cian.ru/sale/flat/306796067/  \n",
       "1  https://www.cian.ru/sale/flat/304330115/  \n",
       "2  https://www.cian.ru/sale/flat/301450189/  \n",
       "3  https://www.cian.ru/sale/flat/296640150/  \n",
       "4  https://www.cian.ru/sale/flat/304330219/  "
      ]
     },
     "execution_count": 3,
     "metadata": {},
     "output_type": "execute_result"
    }
   ],
   "source": [
    "df_cian = pd.read_csv(\"./data/cian_houses.csv\")\n",
    "df_cian.head()"
   ]
  },
  {
   "cell_type": "markdown",
   "metadata": {},
   "source": [
    "We can drop urls"
   ]
  },
  {
   "cell_type": "code",
   "execution_count": 5,
   "metadata": {},
   "outputs": [
    {
     "data": {
      "text/html": [
       "<div>\n",
       "<style scoped>\n",
       "    .dataframe tbody tr th:only-of-type {\n",
       "        vertical-align: middle;\n",
       "    }\n",
       "\n",
       "    .dataframe tbody tr th {\n",
       "        vertical-align: top;\n",
       "    }\n",
       "\n",
       "    .dataframe thead th {\n",
       "        text-align: right;\n",
       "    }\n",
       "</style>\n",
       "<table border=\"1\" class=\"dataframe\">\n",
       "  <thead>\n",
       "    <tr style=\"text-align: right;\">\n",
       "      <th></th>\n",
       "      <th>price</th>\n",
       "      <th>location</th>\n",
       "      <th>metro</th>\n",
       "      <th>floor</th>\n",
       "      <th>floor_count</th>\n",
       "      <th>square</th>\n",
       "      <th>living_square</th>\n",
       "      <th>kitchen_square</th>\n",
       "      <th>year</th>\n",
       "      <th>finish_type</th>\n",
       "      <th>ceiling_height</th>\n",
       "      <th>view</th>\n",
       "      <th>accomodation_type</th>\n",
       "    </tr>\n",
       "  </thead>\n",
       "  <tbody>\n",
       "    <tr>\n",
       "      <th>0</th>\n",
       "      <td>25107300</td>\n",
       "      <td>Москва, ЦАО, р-н Пресненский, Шелепихинское ш.</td>\n",
       "      <td>Шелепиха</td>\n",
       "      <td>18</td>\n",
       "      <td>51</td>\n",
       "      <td>45.90</td>\n",
       "      <td>16.4</td>\n",
       "      <td>unknown</td>\n",
       "      <td>2024</td>\n",
       "      <td>Без отделки</td>\n",
       "      <td>3.1</td>\n",
       "      <td>На улицу</td>\n",
       "      <td>Новостройка</td>\n",
       "    </tr>\n",
       "    <tr>\n",
       "      <th>1</th>\n",
       "      <td>130000000</td>\n",
       "      <td>Москва, ЦАО, р-н Хамовники, ул. Усачева, 15А</td>\n",
       "      <td>Спортивная</td>\n",
       "      <td>9</td>\n",
       "      <td>14</td>\n",
       "      <td>110.00</td>\n",
       "      <td>45.0</td>\n",
       "      <td>20.0</td>\n",
       "      <td>2022</td>\n",
       "      <td>Без ремонта</td>\n",
       "      <td>unknown</td>\n",
       "      <td>На улицу</td>\n",
       "      <td>Вторичка</td>\n",
       "    </tr>\n",
       "    <tr>\n",
       "      <th>2</th>\n",
       "      <td>310361512</td>\n",
       "      <td>Москва, ЗАО, р-н Очаково-Матвеевское, Нежинска...</td>\n",
       "      <td>Давыдково</td>\n",
       "      <td>26</td>\n",
       "      <td>31</td>\n",
       "      <td>246.70</td>\n",
       "      <td>140.9</td>\n",
       "      <td>28.0</td>\n",
       "      <td>2008</td>\n",
       "      <td>Дизайнерский</td>\n",
       "      <td>3.1</td>\n",
       "      <td>unknown</td>\n",
       "      <td>Вторичка</td>\n",
       "    </tr>\n",
       "    <tr>\n",
       "      <th>3</th>\n",
       "      <td>23676000</td>\n",
       "      <td>Москва, СВАО, р-н Марьина роща, Тэйт жилой ком...</td>\n",
       "      <td>Марьина Роща</td>\n",
       "      <td>5</td>\n",
       "      <td>49</td>\n",
       "      <td>59.19</td>\n",
       "      <td>24.2</td>\n",
       "      <td>unknown</td>\n",
       "      <td>2027</td>\n",
       "      <td>Предчистовая</td>\n",
       "      <td>3.12</td>\n",
       "      <td>unknown</td>\n",
       "      <td>Новостройка</td>\n",
       "    </tr>\n",
       "    <tr>\n",
       "      <th>4</th>\n",
       "      <td>131000000</td>\n",
       "      <td>Москва, ЦАО, р-н Пресненский, Лаки жилой квартал</td>\n",
       "      <td>Улица 1905 года</td>\n",
       "      <td>6</td>\n",
       "      <td>21</td>\n",
       "      <td>114.00</td>\n",
       "      <td>40.9</td>\n",
       "      <td>35.0</td>\n",
       "      <td>unknown</td>\n",
       "      <td>Дизайнерский</td>\n",
       "      <td>unknown</td>\n",
       "      <td>unknown</td>\n",
       "      <td>Вторичка</td>\n",
       "    </tr>\n",
       "  </tbody>\n",
       "</table>\n",
       "</div>"
      ],
      "text/plain": [
       "       price                                           location  \\\n",
       "0   25107300     Москва, ЦАО, р-н Пресненский, Шелепихинское ш.   \n",
       "1  130000000       Москва, ЦАО, р-н Хамовники, ул. Усачева, 15А   \n",
       "2  310361512  Москва, ЗАО, р-н Очаково-Матвеевское, Нежинска...   \n",
       "3   23676000  Москва, СВАО, р-н Марьина роща, Тэйт жилой ком...   \n",
       "4  131000000   Москва, ЦАО, р-н Пресненский, Лаки жилой квартал   \n",
       "\n",
       "             metro  floor  floor_count  square living_square kitchen_square  \\\n",
       "0         Шелепиха     18           51   45.90          16.4        unknown   \n",
       "1       Спортивная      9           14  110.00          45.0           20.0   \n",
       "2        Давыдково     26           31  246.70         140.9           28.0   \n",
       "3     Марьина Роща      5           49   59.19          24.2        unknown   \n",
       "4  Улица 1905 года      6           21  114.00          40.9           35.0   \n",
       "\n",
       "      year   finish_type ceiling_height      view accomodation_type  \n",
       "0     2024   Без отделки            3.1  На улицу       Новостройка  \n",
       "1     2022   Без ремонта        unknown  На улицу          Вторичка  \n",
       "2     2008  Дизайнерский            3.1   unknown          Вторичка  \n",
       "3     2027  Предчистовая           3.12   unknown       Новостройка  \n",
       "4  unknown  Дизайнерский        unknown   unknown          Вторичка  "
      ]
     },
     "execution_count": 5,
     "metadata": {},
     "output_type": "execute_result"
    }
   ],
   "source": [
    "df_cian = df_cian.drop(columns=[\"url\"])\n",
    "df_cian.head()"
   ]
  },
  {
   "cell_type": "markdown",
   "metadata": {},
   "source": [
    "Выберем численные и категориальные переменные в датасете"
   ]
  },
  {
   "cell_type": "code",
   "execution_count": 32,
   "metadata": {},
   "outputs": [],
   "source": [
    "numerical_features = [f for f in df_cian.columns if df_cian.dtypes[f] != 'object']\n",
    "categorical_features = [f for f in df_cian.columns if df_cian.dtypes[f] == 'object']"
   ]
  },
  {
   "cell_type": "code",
   "execution_count": 33,
   "metadata": {},
   "outputs": [
    {
     "data": {
      "text/plain": [
       "['price', 'floor', 'floor_count', 'square']"
      ]
     },
     "execution_count": 33,
     "metadata": {},
     "output_type": "execute_result"
    }
   ],
   "source": [
    "numerical_features"
   ]
  },
  {
   "cell_type": "code",
   "execution_count": null,
   "metadata": {},
   "outputs": [],
   "source": []
  },
  {
   "cell_type": "code",
   "execution_count": 27,
   "metadata": {},
   "outputs": [
    {
     "data": {
      "text/plain": [
       "<Axes: >"
      ]
     },
     "execution_count": 27,
     "metadata": {},
     "output_type": "execute_result"
    },
    {
     "data": {
      "image/png": "[encoded data removed]",
      "text/plain": [
       "<Figure size 640x480 with 1 Axes>"
      ]
     },
     "metadata": {},
     "output_type": "display_data"
    }
   ],
   "source": [
    "df_cian[\"price\"].hist(\n",
    "    bins=100\n",
    ")"
   ]
  },
  {
   "cell_type": "code",
   "execution_count": 28,
   "metadata": {},
   "outputs": [
    {
     "data": {
      "text/plain": [
       "<Axes: >"
      ]
     },
     "execution_count": 28,
     "metadata": {},
     "output_type": "execute_result"
    },
    {
     "data": {
      "image/png": "[encoded data removed]",
      "text/plain": [
       "<Figure size 640x480 with 1 Axes>"
      ]
     },
     "metadata": {},
     "output_type": "display_data"
    }
   ],
   "source": [
    "df_cian[\"square\"].hist(\n",
    "    bins=55\n",
    ")"
   ]
  },
  {
   "cell_type": "code",
   "execution_count": null,
   "metadata": {},
   "outputs": [],
   "source": []
  }
 ],
 "metadata": {
  "kernelspec": {
   "display_name": "base",
   "language": "python",
   "name": "python3"
  },
  "language_info": {
   "codemirror_mode": {
    "name": "ipython",
    "version": 3
   },
   "file_extension": ".py",
   "mimetype": "text/x-python",
   "name": "python",
   "nbconvert_exporter": "python",
   "pygments_lexer": "ipython3",
   "version": "3.12.4"
  }
 },
 "nbformat": 4,
 "nbformat_minor": 2
}
