{
 "cells": [
  {
   "cell_type": "markdown",
   "metadata": {},
   "source": [
    "# Cian flats EDA"
   ]
  },
  {
   "cell_type": "code",
   "execution_count": 1,
   "metadata": {},
   "outputs": [],
   "source": [
    "import numpy as np\n",
    "import pandas as pd\n",
    "\n",
    "import matplotlib.pyplot as plt\n",
    "\n",
    "import seaborn as sns\n",
    "\n",
    "# USE THIS STYLE\n",
    "# plt.style.use('https://github.com/dhaitz/matplotlib-stylesheets/raw/master/pitayasmoothie-light.mplstyle')\n",
    "# \n",
    "# OR THIS STYLE\n",
    "import aquarel\n",
    "\n",
    "theme = aquarel.load_theme(\"arctic_light\")\n",
    "theme.set_font(family=\"serif\")\n",
    "theme.apply()\n",
    "\n",
    "# Сделаем автоподгрузку всех изменений при перепрогонке ячейки\n",
    "%load_ext autoreload\n",
    "%autoreload 2\n",
    "\n",
    "%matplotlib inline"
   ]
  },
  {
   "cell_type": "code",
   "execution_count": 2,
   "metadata": {},
   "outputs": [],
   "source": [
    "custom_pallete = {\n",
    "    \"red\": \"#BF616A\",\n",
    "    \"orange\": \"#D08770\",\n",
    "    \"yellow\": \"#EBCB8B\",\n",
    "    \"green\": \"#A3BE8C\",\n",
    "    \"purple\": \"#B48EAD\",\n",
    "    \"light_green\": \"#8FBCBB\",\n",
    "    \"light_gray_blue\": \"#88C0D0\",\n",
    "    \"light_blue\": \"#81A1C1\",\n",
    "    \"blue\": \"#5E81AC\",\n",
    "}"
   ]
  },
  {
   "cell_type": "markdown",
   "metadata": {},
   "source": [
    "## Load data"
   ]
  },
  {
   "cell_type": "code",
   "execution_count": 19,
   "metadata": {},
   "outputs": [
    {
     "data": {
      "text/html": [
       "<div>\n",
       "<style scoped>\n",
       "    .dataframe tbody tr th:only-of-type {\n",
       "        vertical-align: middle;\n",
       "    }\n",
       "\n",
       "    .dataframe tbody tr th {\n",
       "        vertical-align: top;\n",
       "    }\n",
       "\n",
       "    .dataframe thead th {\n",
       "        text-align: right;\n",
       "    }\n",
       "</style>\n",
       "<table border=\"1\" class=\"dataframe\">\n",
       "  <thead>\n",
       "    <tr style=\"text-align: right;\">\n",
       "      <th></th>\n",
       "      <th>price</th>\n",
       "      <th>location</th>\n",
       "      <th>geo_lat</th>\n",
       "      <th>geo_lng</th>\n",
       "      <th>metro</th>\n",
       "      <th>floor</th>\n",
       "      <th>floor_count</th>\n",
       "      <th>square</th>\n",
       "      <th>living_square</th>\n",
       "      <th>kitchen_square</th>\n",
       "      <th>...</th>\n",
       "      <th>ceiling_height</th>\n",
       "      <th>view</th>\n",
       "      <th>house_type</th>\n",
       "      <th>heating</th>\n",
       "      <th>breakdown</th>\n",
       "      <th>parking</th>\n",
       "      <th>accomodation_type</th>\n",
       "      <th>author</th>\n",
       "      <th>url</th>\n",
       "      <th>room_count</th>\n",
       "    </tr>\n",
       "  </thead>\n",
       "  <tbody>\n",
       "    <tr>\n",
       "      <th>0</th>\n",
       "      <td>18374400</td>\n",
       "      <td>Москва, СВАО, р-н Марьина роща, Тэйт жилой ком...</td>\n",
       "      <td>55.802530</td>\n",
       "      <td>37.620945</td>\n",
       "      <td>Марьина Роща</td>\n",
       "      <td>34</td>\n",
       "      <td>49</td>\n",
       "      <td>38.28</td>\n",
       "      <td>11.8</td>\n",
       "      <td>unknown</td>\n",
       "      <td>...</td>\n",
       "      <td>3.12</td>\n",
       "      <td>unknown</td>\n",
       "      <td>Монолитно-кирпичный</td>\n",
       "      <td>unknown</td>\n",
       "      <td>unknown</td>\n",
       "      <td>unknown</td>\n",
       "      <td>Новостройка</td>\n",
       "      <td>КОРТРОС</td>\n",
       "      <td>https://www.cian.ru/sale/flat/302789697/</td>\n",
       "      <td>1</td>\n",
       "    </tr>\n",
       "    <tr>\n",
       "      <th>1</th>\n",
       "      <td>49954800</td>\n",
       "      <td>Москва, ЦАО, р-н Таганский, Славянская пл., 2/5с1</td>\n",
       "      <td>55.752541</td>\n",
       "      <td>37.635727</td>\n",
       "      <td>Китай</td>\n",
       "      <td>7</td>\n",
       "      <td>8</td>\n",
       "      <td>53.20</td>\n",
       "      <td>unknown</td>\n",
       "      <td>24.1</td>\n",
       "      <td>...</td>\n",
       "      <td>3.0</td>\n",
       "      <td>unknown</td>\n",
       "      <td>Монолитно-кирпичный</td>\n",
       "      <td>unknown</td>\n",
       "      <td>unknown</td>\n",
       "      <td>unknown</td>\n",
       "      <td>Вторичка / Апартаменты</td>\n",
       "      <td>unknown</td>\n",
       "      <td>https://www.cian.ru/sale/flat/301496936/</td>\n",
       "      <td>1</td>\n",
       "    </tr>\n",
       "    <tr>\n",
       "      <th>2</th>\n",
       "      <td>8170000</td>\n",
       "      <td>Москва, НАО (Новомосковский), Филимонковское п...</td>\n",
       "      <td>55.552637</td>\n",
       "      <td>37.337172</td>\n",
       "      <td>Филатов Луг</td>\n",
       "      <td>2</td>\n",
       "      <td>5</td>\n",
       "      <td>31.00</td>\n",
       "      <td>unknown</td>\n",
       "      <td>10.0</td>\n",
       "      <td>...</td>\n",
       "      <td>3.0</td>\n",
       "      <td>Во двор</td>\n",
       "      <td>unknown</td>\n",
       "      <td>Нет информации</td>\n",
       "      <td>Нет</td>\n",
       "      <td>unknown</td>\n",
       "      <td>Вторичка</td>\n",
       "      <td>unknown</td>\n",
       "      <td>https://www.cian.ru/sale/flat/303552909/</td>\n",
       "      <td>1</td>\n",
       "    </tr>\n",
       "    <tr>\n",
       "      <th>3</th>\n",
       "      <td>20206500</td>\n",
       "      <td>Москва, СВАО, р-н Останкинский, ул. Годовикова...</td>\n",
       "      <td>55.810466</td>\n",
       "      <td>37.624247</td>\n",
       "      <td>Алексеевская</td>\n",
       "      <td>34</td>\n",
       "      <td>37</td>\n",
       "      <td>28.50</td>\n",
       "      <td>21.4</td>\n",
       "      <td>unknown</td>\n",
       "      <td>...</td>\n",
       "      <td>3.01</td>\n",
       "      <td>На улицу</td>\n",
       "      <td>Монолитно-кирпичный</td>\n",
       "      <td>unknown</td>\n",
       "      <td>unknown</td>\n",
       "      <td>unknown</td>\n",
       "      <td>Новостройка</td>\n",
       "      <td>КОРТРОС</td>\n",
       "      <td>https://www.cian.ru/sale/flat/306568424/</td>\n",
       "      <td>1</td>\n",
       "    </tr>\n",
       "    <tr>\n",
       "      <th>4</th>\n",
       "      <td>17119620</td>\n",
       "      <td>Москва, ЮАО, р-н Даниловский, Автозаводская ул...</td>\n",
       "      <td>55.706597</td>\n",
       "      <td>37.632285</td>\n",
       "      <td>Тульская</td>\n",
       "      <td>6</td>\n",
       "      <td>20</td>\n",
       "      <td>38.82</td>\n",
       "      <td>10.6</td>\n",
       "      <td>18.6</td>\n",
       "      <td>...</td>\n",
       "      <td>2.85</td>\n",
       "      <td>Во двор</td>\n",
       "      <td>Монолитный</td>\n",
       "      <td>unknown</td>\n",
       "      <td>unknown</td>\n",
       "      <td>unknown</td>\n",
       "      <td>Новостройка</td>\n",
       "      <td>unknown</td>\n",
       "      <td>https://www.cian.ru/sale/flat/305679800/</td>\n",
       "      <td>1</td>\n",
       "    </tr>\n",
       "  </tbody>\n",
       "</table>\n",
       "<p>5 rows × 22 columns</p>\n",
       "</div>"
      ],
      "text/plain": [
       "      price                                           location    geo_lat  \\\n",
       "0  18374400  Москва, СВАО, р-н Марьина роща, Тэйт жилой ком...  55.802530   \n",
       "1  49954800  Москва, ЦАО, р-н Таганский, Славянская пл., 2/5с1  55.752541   \n",
       "2   8170000  Москва, НАО (Новомосковский), Филимонковское п...  55.552637   \n",
       "3  20206500  Москва, СВАО, р-н Останкинский, ул. Годовикова...  55.810466   \n",
       "4  17119620  Москва, ЮАО, р-н Даниловский, Автозаводская ул...  55.706597   \n",
       "\n",
       "     geo_lng         metro  floor  floor_count  square living_square  \\\n",
       "0  37.620945  Марьина Роща     34           49   38.28          11.8   \n",
       "1  37.635727         Китай      7            8   53.20       unknown   \n",
       "2  37.337172   Филатов Луг      2            5   31.00       unknown   \n",
       "3  37.624247  Алексеевская     34           37   28.50          21.4   \n",
       "4  37.632285      Тульская      6           20   38.82          10.6   \n",
       "\n",
       "  kitchen_square  ... ceiling_height      view           house_type  \\\n",
       "0        unknown  ...           3.12   unknown  Монолитно-кирпичный   \n",
       "1           24.1  ...            3.0   unknown  Монолитно-кирпичный   \n",
       "2           10.0  ...            3.0   Во двор              unknown   \n",
       "3        unknown  ...           3.01  На улицу  Монолитно-кирпичный   \n",
       "4           18.6  ...           2.85   Во двор           Монолитный   \n",
       "\n",
       "          heating breakdown  parking       accomodation_type   author  \\\n",
       "0         unknown   unknown  unknown             Новостройка  КОРТРОС   \n",
       "1         unknown   unknown  unknown  Вторичка / Апартаменты  unknown   \n",
       "2  Нет информации       Нет  unknown                Вторичка  unknown   \n",
       "3         unknown   unknown  unknown             Новостройка  КОРТРОС   \n",
       "4         unknown   unknown  unknown             Новостройка  unknown   \n",
       "\n",
       "                                        url room_count  \n",
       "0  https://www.cian.ru/sale/flat/302789697/          1  \n",
       "1  https://www.cian.ru/sale/flat/301496936/          1  \n",
       "2  https://www.cian.ru/sale/flat/303552909/          1  \n",
       "3  https://www.cian.ru/sale/flat/306568424/          1  \n",
       "4  https://www.cian.ru/sale/flat/305679800/          1  \n",
       "\n",
       "[5 rows x 22 columns]"
      ]
     },
     "execution_count": 19,
     "metadata": {},
     "output_type": "execute_result"
    }
   ],
   "source": [
    "df_cian = pd.read_csv(\"./data/cian_houses_dataset.csv\")\n",
    "df_cian.head()"
   ]
  },
  {
   "cell_type": "code",
   "execution_count": 20,
   "metadata": {},
   "outputs": [
    {
     "data": {
      "text/plain": [
       "(8053, 22)"
      ]
     },
     "execution_count": 20,
     "metadata": {},
     "output_type": "execute_result"
    }
   ],
   "source": [
    "df_cian.shape"
   ]
  },
  {
   "cell_type": "markdown",
   "metadata": {},
   "source": [
    "Разделим на численные и категориальные фитчи"
   ]
  },
  {
   "cell_type": "code",
   "execution_count": 22,
   "metadata": {},
   "outputs": [],
   "source": [
    "numerical_features = [f for f in df_cian.columns if df_cian.dtypes[f] != 'object']\n",
    "categorical_features = [f for f in df_cian.columns if df_cian.dtypes[f] == 'object']"
   ]
  },
  {
   "cell_type": "code",
   "execution_count": 23,
   "metadata": {},
   "outputs": [
    {
     "data": {
      "text/plain": [
       "['price', 'geo_lat', 'geo_lng', 'floor', 'floor_count', 'square', 'room_count']"
      ]
     },
     "execution_count": 23,
     "metadata": {},
     "output_type": "execute_result"
    }
   ],
   "source": [
    "numerical_features"
   ]
  }
 ],
 "metadata": {
  "kernelspec": {
   "display_name": "base",
   "language": "python",
   "name": "python3"
  },
  "language_info": {
   "codemirror_mode": {
    "name": "ipython",
    "version": 3
   },
   "file_extension": ".py",
   "mimetype": "text/x-python",
   "name": "python",
   "nbconvert_exporter": "python",
   "pygments_lexer": "ipython3",
   "version": "3.12.4"
  }
 },
 "nbformat": 4,
 "nbformat_minor": 2
}
